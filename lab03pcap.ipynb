{
 "cells": [
  {
   "cell_type": "code",
   "execution_count": 1,
   "id": "f660b92d-1a11-4571-996d-f6961d875528",
   "metadata": {},
   "outputs": [],
   "source": [
    "from random import randint"
   ]
  },
  {
   "cell_type": "code",
   "execution_count": 6,
   "id": "c41b0b49-e1e6-4be2-9d44-9394072fe4ee",
   "metadata": {},
   "outputs": [
    {
     "name": "stdout",
     "output_type": "stream",
     "text": [
      "21"
     ]
    }
   ],
   "source": [
    "for i in range(2):\n",
    "    print(randint(1,2), end=\"\")"
   ]
  },
  {
   "cell_type": "code",
   "execution_count": 2,
   "id": "f876562c-a598-4527-b614-cf1aeae9f065",
   "metadata": {},
   "outputs": [
    {
     "data": {
      "text/plain": [
       "\u001b[31mSignature:\u001b[39m randint(a, b)\n",
       "\u001b[31mDocstring:\u001b[39m\n",
       "Return random integer in range [a, b], including both end points.\n",
       "        \n",
       "\u001b[31mFile:\u001b[39m      /usr/lib/python3.12/random.py\n",
       "\u001b[31mType:\u001b[39m      method"
      ]
     },
     "metadata": {},
     "output_type": "display_data"
    }
   ],
   "source": [
    "randint?"
   ]
  },
  {
   "cell_type": "code",
   "execution_count": 12,
   "id": "b07e9263-0395-4822-87e7-04dd32121310",
   "metadata": {},
   "outputs": [
    {
     "data": {
      "text/plain": [
       "[]"
      ]
     },
     "execution_count": 12,
     "metadata": {},
     "output_type": "execute_result"
    }
   ],
   "source": [
    "[x for x in range(0)]"
   ]
  },
  {
   "cell_type": "code",
   "execution_count": 15,
   "id": "1cb58613-2570-4641-8f7f-3bee37e1b400",
   "metadata": {},
   "outputs": [
    {
     "name": "stdout",
     "output_type": "stream",
     "text": [
      "0\n",
      "1\n",
      "2\n"
     ]
    }
   ],
   "source": [
    "for y in range(3):\n",
    "    print(y)"
   ]
  },
  {
   "cell_type": "code",
   "execution_count": 16,
   "id": "b7c0c0df-cd52-4848-8348-6fa3257b9296",
   "metadata": {},
   "outputs": [
    {
     "data": {
      "text/plain": [
       "\u001b[31mInit signature:\u001b[39m range(self, /, *args, **kwargs)\n",
       "\u001b[31mDocstring:\u001b[39m     \n",
       "range(stop) -> range object\n",
       "range(start, stop[, step]) -> range object\n",
       "\n",
       "Return an object that produces a sequence of integers from start (inclusive)\n",
       "to stop (exclusive) by step.  range(i, j) produces i, i+1, i+2, ..., j-1.\n",
       "start defaults to 0, and stop is omitted!  range(4) produces 0, 1, 2, 3.\n",
       "These are exactly the valid indices for a list of 4 elements.\n",
       "When step is given, it specifies the increment (or decrement).\n",
       "\u001b[31mType:\u001b[39m           type\n",
       "\u001b[31mSubclasses:\u001b[39m     "
      ]
     },
     "metadata": {},
     "output_type": "display_data"
    }
   ],
   "source": [
    "range?"
   ]
  },
  {
   "cell_type": "code",
   "execution_count": 17,
   "id": "55ca0927-da6e-4fcb-bd29-0b9aaec470ef",
   "metadata": {},
   "outputs": [
    {
     "name": "stdout",
     "output_type": "stream",
     "text": [
      "[[], [0], [0, 1]]\n"
     ]
    }
   ],
   "source": [
    "list1 = [[x for x in range(y)] for y in range(3)]\n",
    "print(list1)"
   ]
  },
  {
   "cell_type": "code",
   "execution_count": 19,
   "id": "8a843c40-e61c-482e-aba1-b5d87687aee2",
   "metadata": {},
   "outputs": [
    {
     "name": "stdout",
     "output_type": "stream",
     "text": [
      "*\n",
      "*\n"
     ]
    }
   ],
   "source": [
    "for a in list1:\n",
    "    if len(a) <2:\n",
    "        print(\"*\")"
   ]
  },
  {
   "cell_type": "code",
   "execution_count": 31,
   "id": "b60e0e4f-8229-4284-b942-785bdd2192e6",
   "metadata": {},
   "outputs": [
    {
     "name": "stdout",
     "output_type": "stream",
     "text": [
      "1 2\n"
     ]
    }
   ],
   "source": [
    "class X:\n",
    "    def __init__(self, x=1):\n",
    "        self.x = x\n",
    "\n",
    "class Y(X):\n",
    "    def __init__(self, y=2):\n",
    "        super().__init__()\n",
    "        self.y = y\n",
    "        #self.x = y\n",
    "        \n",
    "\n",
    "y=Y()\n",
    "print(y.x, y.y)\n",
    "    "
   ]
  },
  {
   "cell_type": "code",
   "execution_count": 33,
   "id": "9d4f67e7-74aa-42bb-bc39-3a714339dcb0",
   "metadata": {},
   "outputs": [
    {
     "name": "stdout",
     "output_type": "stream",
     "text": [
      "x from class B = 90\n"
     ]
    }
   ],
   "source": [
    "class A:\n",
    "    def __init__(self):\n",
    "        self.multiply(10)\n",
    "\n",
    "    def multiply(self, x):\n",
    "        self.x = 4*x\n",
    "\n",
    "class B(A):\n",
    "    def __init__(self):\n",
    "        super().__init__()\n",
    "        print(f\"x from class B = {self.x}\")\n",
    "\n",
    "    def multiply(self, x):\n",
    "        self.x = 9*x\n",
    "\n",
    "b = B()"
   ]
  },
  {
   "cell_type": "code",
   "execution_count": 34,
   "id": "f10f4cc4-940a-4d7a-9b92-3557e76c5a7c",
   "metadata": {},
   "outputs": [
    {
     "name": "stdout",
     "output_type": "stream",
     "text": [
      "carrot\n",
      "onion\n",
      "letuce\n"
     ]
    }
   ],
   "source": [
    "list1 = [\"carrot\", \"onion\", \"letuce\"]\n",
    "print(\"\\n\".join(list1))"
   ]
  },
  {
   "cell_type": "code",
   "execution_count": 35,
   "id": "689f42d3-b770-40fa-a3ca-04ccdfbec930",
   "metadata": {},
   "outputs": [
    {
     "name": "stdout",
     "output_type": "stream",
     "text": [
      "11\n"
     ]
    }
   ],
   "source": [
    "x = lambda y: y+5\n",
    "print(x(6))"
   ]
  },
  {
   "cell_type": "code",
   "execution_count": 22,
   "id": "bca10eea-a2bc-4eb7-bd5b-ff046865f6e7",
   "metadata": {},
   "outputs": [],
   "source": [
    "class Class1:\n",
    "    class_abc_variable = 1\n",
    "\n",
    "    def __init__(self):\n",
    "        self.instance_variable =5\n",
    "\n",
    "    def multiply(self):\n",
    "        pass\n",
    "\n",
    "new_obj = Class()"
   ]
  },
  {
   "cell_type": "code",
   "execution_count": 23,
   "id": "3df03113-9eda-4518-8bad-8646a4c7a705",
   "metadata": {},
   "outputs": [
    {
     "data": {
      "text/plain": [
       "{'instance_variable': 5}"
      ]
     },
     "execution_count": 23,
     "metadata": {},
     "output_type": "execute_result"
    }
   ],
   "source": [
    "new_obj.__dict__"
   ]
  },
  {
   "cell_type": "code",
   "execution_count": 24,
   "id": "b8633281-ac31-4586-99f8-ea011f66d789",
   "metadata": {},
   "outputs": [
    {
     "data": {
      "text/plain": [
       "dict_items([('instance_variable', 5)])"
      ]
     },
     "execution_count": 24,
     "metadata": {},
     "output_type": "execute_result"
    }
   ],
   "source": [
    "new_obj.__dict__.items()"
   ]
  },
  {
   "cell_type": "code",
   "execution_count": 25,
   "id": "bad96566-3637-4b52-aca4-9de7731b70f9",
   "metadata": {},
   "outputs": [
    {
     "ename": "KeyError",
     "evalue": "'multiply'",
     "output_type": "error",
     "traceback": [
      "\u001b[31m---------------------------------------------------------------------------\u001b[39m",
      "\u001b[31mKeyError\u001b[39m                                  Traceback (most recent call last)",
      "\u001b[36mCell\u001b[39m\u001b[36m \u001b[39m\u001b[32mIn[25]\u001b[39m\u001b[32m, line 1\u001b[39m\n\u001b[32m----> \u001b[39m\u001b[32m1\u001b[39m \u001b[43mnew_obj\u001b[49m\u001b[43m.\u001b[49m\u001b[34;43m__dict__\u001b[39;49m\u001b[43m[\u001b[49m\u001b[33;43m\"\u001b[39;49m\u001b[33;43mmultiply\u001b[39;49m\u001b[33;43m\"\u001b[39;49m\u001b[43m]\u001b[49m != \u001b[38;5;28;01mNone\u001b[39;00m\n",
      "\u001b[31mKeyError\u001b[39m: 'multiply'"
     ]
    }
   ],
   "source": [
    "new_obj.__dict__[\"multiply\"] != None"
   ]
  },
  {
   "cell_type": "code",
   "execution_count": 27,
   "id": "71b46ae3-f171-45e7-89de-0745535efabf",
   "metadata": {},
   "outputs": [
    {
     "data": {
      "text/plain": [
       "mappingproxy({'__module__': '__main__',\n",
       "              'class_abc_variable': 1,\n",
       "              '__init__': <function __main__.Class1.__init__(self)>,\n",
       "              'multiply': <function __main__.Class1.multiply(self)>,\n",
       "              '__dict__': <attribute '__dict__' of 'Class1' objects>,\n",
       "              '__weakref__': <attribute '__weakref__' of 'Class1' objects>,\n",
       "              '__doc__': None})"
      ]
     },
     "execution_count": 27,
     "metadata": {},
     "output_type": "execute_result"
    }
   ],
   "source": [
    "Class1.__dict__"
   ]
  },
  {
   "cell_type": "code",
   "execution_count": 28,
   "id": "9f1b31ca-bb30-47c0-9e5d-f3c4e4d66bfa",
   "metadata": {},
   "outputs": [
    {
     "data": {
      "text/plain": [
       "<function __main__.Class1.multiply(self)>"
      ]
     },
     "execution_count": 28,
     "metadata": {},
     "output_type": "execute_result"
    }
   ],
   "source": [
    "Class1.__dict__[\"multiply\"]"
   ]
  },
  {
   "cell_type": "code",
   "execution_count": 29,
   "id": "eb09de2d-52f4-414d-a850-cff34a61de9b",
   "metadata": {},
   "outputs": [
    {
     "data": {
      "text/plain": [
       "True"
      ]
     },
     "execution_count": 29,
     "metadata": {},
     "output_type": "execute_result"
    }
   ],
   "source": [
    "Class1.__dict__[\"multiply\"] != None"
   ]
  },
  {
   "cell_type": "code",
   "execution_count": 30,
   "id": "cbc20df2-9b8c-457e-a72f-fb0bc6495b59",
   "metadata": {},
   "outputs": [
    {
     "data": {
      "text/plain": [
       "True"
      ]
     },
     "execution_count": 30,
     "metadata": {},
     "output_type": "execute_result"
    }
   ],
   "source": [
    "\"__dict__\" in Class1.__dict__"
   ]
  },
  {
   "cell_type": "code",
   "execution_count": 31,
   "id": "ca35a9e2-1610-4d27-96cc-cbadcdd8ed27",
   "metadata": {},
   "outputs": [
    {
     "data": {
      "text/plain": [
       "False"
      ]
     },
     "execution_count": 31,
     "metadata": {},
     "output_type": "execute_result"
    }
   ],
   "source": [
    "len(new_obj.__dict__) == len(Class1.__dict__)"
   ]
  },
  {
   "cell_type": "code",
   "execution_count": 32,
   "id": "16e00254-83b9-433f-a77d-7f6394acde24",
   "metadata": {},
   "outputs": [
    {
     "data": {
      "text/plain": [
       "{'instance_variable': 5}"
      ]
     },
     "execution_count": 32,
     "metadata": {},
     "output_type": "execute_result"
    }
   ],
   "source": [
    "new_obj.__dict__"
   ]
  },
  {
   "cell_type": "code",
   "execution_count": 33,
   "id": "672e4a53-4714-4f62-9a28-181cf3ed094e",
   "metadata": {},
   "outputs": [
    {
     "data": {
      "text/plain": [
       "mappingproxy({'__module__': '__main__',\n",
       "              'class_abc_variable': 1,\n",
       "              '__init__': <function __main__.Class1.__init__(self)>,\n",
       "              'multiply': <function __main__.Class1.multiply(self)>,\n",
       "              '__dict__': <attribute '__dict__' of 'Class1' objects>,\n",
       "              '__weakref__': <attribute '__weakref__' of 'Class1' objects>,\n",
       "              '__doc__': None})"
      ]
     },
     "execution_count": 33,
     "metadata": {},
     "output_type": "execute_result"
    }
   ],
   "source": [
    "Class1.__dict__"
   ]
  },
  {
   "cell_type": "code",
   "execution_count": 34,
   "id": "95d3a041-8be2-4c47-98ef-d3b20c14f9c1",
   "metadata": {},
   "outputs": [
    {
     "data": {
      "text/plain": [
       "['__class__',\n",
       " '__delattr__',\n",
       " '__dict__',\n",
       " '__dir__',\n",
       " '__doc__',\n",
       " '__eq__',\n",
       " '__format__',\n",
       " '__ge__',\n",
       " '__getattribute__',\n",
       " '__getstate__',\n",
       " '__gt__',\n",
       " '__hash__',\n",
       " '__init__',\n",
       " '__init_subclass__',\n",
       " '__le__',\n",
       " '__lt__',\n",
       " '__module__',\n",
       " '__ne__',\n",
       " '__new__',\n",
       " '__reduce__',\n",
       " '__reduce_ex__',\n",
       " '__repr__',\n",
       " '__setattr__',\n",
       " '__sizeof__',\n",
       " '__str__',\n",
       " '__subclasshook__',\n",
       " '__weakref__',\n",
       " 'class_abc_variable',\n",
       " 'multiply']"
      ]
     },
     "execution_count": 34,
     "metadata": {},
     "output_type": "execute_result"
    }
   ],
   "source": [
    "dir(Class1)"
   ]
  },
  {
   "cell_type": "code",
   "execution_count": 35,
   "id": "b99b8b40-0fb1-4612-9815-847f1f27ae31",
   "metadata": {},
   "outputs": [],
   "source": [
    "import inspect"
   ]
  },
  {
   "cell_type": "code",
   "execution_count": 36,
   "id": "6c3e8ecc-a670-47ce-9fca-2b2c3699fe34",
   "metadata": {},
   "outputs": [
    {
     "data": {
      "text/plain": [
       "[('__class__', type),\n",
       " ('__delattr__', <slot wrapper '__delattr__' of 'object' objects>),\n",
       " ('__dict__',\n",
       "  mappingproxy({'__module__': '__main__',\n",
       "                'class_abc_variable': 1,\n",
       "                '__init__': <function __main__.Class1.__init__(self)>,\n",
       "                'multiply': <function __main__.Class1.multiply(self)>,\n",
       "                '__dict__': <attribute '__dict__' of 'Class1' objects>,\n",
       "                '__weakref__': <attribute '__weakref__' of 'Class1' objects>,\n",
       "                '__doc__': None})),\n",
       " ('__dir__', <method '__dir__' of 'object' objects>),\n",
       " ('__doc__', None),\n",
       " ('__eq__', <slot wrapper '__eq__' of 'object' objects>),\n",
       " ('__format__', <method '__format__' of 'object' objects>),\n",
       " ('__ge__', <slot wrapper '__ge__' of 'object' objects>),\n",
       " ('__getattribute__', <slot wrapper '__getattribute__' of 'object' objects>),\n",
       " ('__getstate__', <method '__getstate__' of 'object' objects>),\n",
       " ('__gt__', <slot wrapper '__gt__' of 'object' objects>),\n",
       " ('__hash__', <slot wrapper '__hash__' of 'object' objects>),\n",
       " ('__init__', <function __main__.Class1.__init__(self)>),\n",
       " ('__init_subclass__', <function Class1.__init_subclass__>),\n",
       " ('__le__', <slot wrapper '__le__' of 'object' objects>),\n",
       " ('__lt__', <slot wrapper '__lt__' of 'object' objects>),\n",
       " ('__module__', '__main__'),\n",
       " ('__ne__', <slot wrapper '__ne__' of 'object' objects>),\n",
       " ('__new__', <function object.__new__(*args, **kwargs)>),\n",
       " ('__reduce__', <method '__reduce__' of 'object' objects>),\n",
       " ('__reduce_ex__', <method '__reduce_ex__' of 'object' objects>),\n",
       " ('__repr__', <slot wrapper '__repr__' of 'object' objects>),\n",
       " ('__setattr__', <slot wrapper '__setattr__' of 'object' objects>),\n",
       " ('__sizeof__', <method '__sizeof__' of 'object' objects>),\n",
       " ('__str__', <slot wrapper '__str__' of 'object' objects>),\n",
       " ('__subclasshook__', <function Class1.__subclasshook__>),\n",
       " ('__weakref__', <attribute '__weakref__' of 'Class1' objects>),\n",
       " ('class_abc_variable', 1),\n",
       " ('multiply', <function __main__.Class1.multiply(self)>)]"
      ]
     },
     "execution_count": 36,
     "metadata": {},
     "output_type": "execute_result"
    }
   ],
   "source": [
    "inspect.getmembers(Class1)"
   ]
  },
  {
   "cell_type": "code",
   "execution_count": 41,
   "id": "0fa8c6ed-53dc-4bb0-9bd4-8a3d656b4d7f",
   "metadata": {},
   "outputs": [
    {
     "name": "stdout",
     "output_type": "stream",
     "text": [
      "__class__ ### <class 'type'>\n",
      "__delattr__ ### <slot wrapper '__delattr__' of 'object' objects>\n",
      "__dict__ ### {'__module__': '__main__', 'class_abc_variable': 1, '__init__': <function Class1.__init__ at 0x3f80b1f880>, 'multiply': <function Class1.multiply at 0x3f80b1f100>, '__dict__': <attribute '__dict__' of 'Class1' objects>, '__weakref__': <attribute '__weakref__' of 'Class1' objects>, '__doc__': None}\n",
      "__dir__ ### <method '__dir__' of 'object' objects>\n",
      "__doc__ ### None\n",
      "__eq__ ### <slot wrapper '__eq__' of 'object' objects>\n",
      "__format__ ### <method '__format__' of 'object' objects>\n",
      "__ge__ ### <slot wrapper '__ge__' of 'object' objects>\n",
      "__getattribute__ ### <slot wrapper '__getattribute__' of 'object' objects>\n",
      "__getstate__ ### <method '__getstate__' of 'object' objects>\n",
      "__gt__ ### <slot wrapper '__gt__' of 'object' objects>\n",
      "__hash__ ### <slot wrapper '__hash__' of 'object' objects>\n",
      "__init__ ### <function Class1.__init__ at 0x3f80b1f880>\n",
      "__init_subclass__ ### <built-in method __init_subclass__ of type object at 0x166bfe0>\n",
      "__le__ ### <slot wrapper '__le__' of 'object' objects>\n",
      "__lt__ ### <slot wrapper '__lt__' of 'object' objects>\n",
      "__module__ ### __main__\n",
      "__ne__ ### <slot wrapper '__ne__' of 'object' objects>\n",
      "__new__ ### <built-in method __new__ of type object at 0x611108>\n",
      "__reduce__ ### <method '__reduce__' of 'object' objects>\n",
      "__reduce_ex__ ### <method '__reduce_ex__' of 'object' objects>\n",
      "__repr__ ### <slot wrapper '__repr__' of 'object' objects>\n",
      "__setattr__ ### <slot wrapper '__setattr__' of 'object' objects>\n",
      "__sizeof__ ### <method '__sizeof__' of 'object' objects>\n",
      "__str__ ### <slot wrapper '__str__' of 'object' objects>\n",
      "__subclasshook__ ### <built-in method __subclasshook__ of type object at 0x166bfe0>\n",
      "__weakref__ ### <attribute '__weakref__' of 'Class1' objects>\n",
      "class_abc_variable ### 1\n",
      "multiply ### <function Class1.multiply at 0x3f80b1f100>\n"
     ]
    }
   ],
   "source": [
    "members = inspect.getmembers(Class1)\n",
    "for name, member in members:\n",
    "    print(name,\"###\", member)"
   ]
  },
  {
   "cell_type": "code",
   "execution_count": 42,
   "id": "7d4f7b65-a091-47b0-aae2-5001436fd6c3",
   "metadata": {},
   "outputs": [
    {
     "name": "stdout",
     "output_type": "stream",
     "text": [
      "False\n"
     ]
    }
   ],
   "source": [
    "class Y:\n",
    "    def __init__(self, y=0):\n",
    "        self.y = y\n",
    "\n",
    "object1 = Y(5)\n",
    "object2 = Y(5)\n",
    "\n",
    "print(id(object1) == id(object2))\n",
    "    \n"
   ]
  },
  {
   "cell_type": "code",
   "execution_count": 43,
   "id": "56d9497b-8df3-44af-820f-0f3ab70b3e73",
   "metadata": {},
   "outputs": [
    {
     "name": "stdout",
     "output_type": "stream",
     "text": [
      "True\n"
     ]
    }
   ],
   "source": [
    "string1 = \"abc\"\n",
    "string2 = \"abc\"\n",
    "print(id(string1) == id(string2))"
   ]
  },
  {
   "cell_type": "code",
   "execution_count": 45,
   "id": "8053d268-463d-4d00-aa95-2be0bc1643a4",
   "metadata": {},
   "outputs": [
    {
     "name": "stdout",
     "output_type": "stream",
     "text": [
      "*\n",
      "*\n",
      "*\n",
      "*\n",
      "*\n",
      "*\n"
     ]
    }
   ],
   "source": [
    "a =32\n",
    "while a>0:\n",
    "    print(\"*\")\n",
    "    #a //= 2  #equal to a = a//2\n",
    "    a = a//2"
   ]
  },
  {
   "cell_type": "code",
   "execution_count": 49,
   "id": "59e7b841-2a8e-497c-90ff-3ee9f6c6ca02",
   "metadata": {},
   "outputs": [
    {
     "data": {
      "text/plain": [
       "True"
      ]
     },
     "execution_count": 49,
     "metadata": {},
     "output_type": "execute_result"
    }
   ],
   "source": [
    "z =2 \n",
    "y = 1\n",
    "x = y<z or z>y and y>z or z<y\n",
    "x"
   ]
  },
  {
   "cell_type": "code",
   "execution_count": 50,
   "id": "1167155d-b4d7-4a97-a4d7-009e2b394d80",
   "metadata": {},
   "outputs": [],
   "source": [
    "z =2 \n",
    "y = 1\n",
    "x = (y<z) or (z>y) and (y>z) or (z<y)"
   ]
  },
  {
   "cell_type": "code",
   "execution_count": 47,
   "id": "4bfc58da-8bbf-48eb-9b07-922c0772d7bd",
   "metadata": {},
   "outputs": [
    {
     "data": {
      "text/plain": [
       "True"
      ]
     },
     "execution_count": 47,
     "metadata": {},
     "output_type": "execute_result"
    }
   ],
   "source": [
    "x"
   ]
  },
  {
   "cell_type": "code",
   "execution_count": 53,
   "id": "f165b02e-e00f-4a02-b519-9af0b9a9592c",
   "metadata": {},
   "outputs": [
    {
     "name": "stdout",
     "output_type": "stream",
     "text": [
      "Some error:  [Errno 2] No such file or directory: 'dane.txt'\n"
     ]
    }
   ],
   "source": [
    "try:\n",
    "    file = open(\"dane.txt\", \"r\")\n",
    "    file.write(\"Hello World!\")\n",
    "except Exception as e:\n",
    "    print(\"Some error: \", e)\n",
    "else:\n",
    "    print(\"Succesfully writen to the file\")"
   ]
  },
  {
   "cell_type": "code",
   "execution_count": 54,
   "id": "d7cc0c3d-3c77-4a36-acdb-52437d16d9d9",
   "metadata": {},
   "outputs": [
    {
     "ename": "FileNotFoundError",
     "evalue": "[Errno 2] No such file or directory: 'dane.txt'",
     "output_type": "error",
     "traceback": [
      "\u001b[31m---------------------------------------------------------------------------\u001b[39m",
      "\u001b[31mFileNotFoundError\u001b[39m                         Traceback (most recent call last)",
      "\u001b[36mCell\u001b[39m\u001b[36m \u001b[39m\u001b[32mIn[54]\u001b[39m\u001b[32m, line 1\u001b[39m\n\u001b[32m----> \u001b[39m\u001b[32m1\u001b[39m file = \u001b[38;5;28;43mopen\u001b[39;49m\u001b[43m(\u001b[49m\u001b[33;43m\"\u001b[39;49m\u001b[33;43mdane.txt\u001b[39;49m\u001b[33;43m\"\u001b[39;49m\u001b[43m,\u001b[49m\u001b[43m \u001b[49m\u001b[33;43m\"\u001b[39;49m\u001b[33;43mr\u001b[39;49m\u001b[33;43m\"\u001b[39;49m\u001b[43m)\u001b[49m\n\u001b[32m      2\u001b[39m file.write(\u001b[33m\"\u001b[39m\u001b[33mHello World!\u001b[39m\u001b[33m\"\u001b[39m)\n",
      "\u001b[36mFile \u001b[39m\u001b[32m~/jupyter/lib/python3.12/site-packages/IPython/core/interactiveshell.py:343\u001b[39m, in \u001b[36m_modified_open\u001b[39m\u001b[34m(file, *args, **kwargs)\u001b[39m\n\u001b[32m    336\u001b[39m \u001b[38;5;28;01mif\u001b[39;00m file \u001b[38;5;129;01min\u001b[39;00m {\u001b[32m0\u001b[39m, \u001b[32m1\u001b[39m, \u001b[32m2\u001b[39m}:\n\u001b[32m    337\u001b[39m     \u001b[38;5;28;01mraise\u001b[39;00m \u001b[38;5;167;01mValueError\u001b[39;00m(\n\u001b[32m    338\u001b[39m         \u001b[33mf\u001b[39m\u001b[33m\"\u001b[39m\u001b[33mIPython won\u001b[39m\u001b[33m'\u001b[39m\u001b[33mt let you open fd=\u001b[39m\u001b[38;5;132;01m{\u001b[39;00mfile\u001b[38;5;132;01m}\u001b[39;00m\u001b[33m by default \u001b[39m\u001b[33m\"\u001b[39m\n\u001b[32m    339\u001b[39m         \u001b[33m\"\u001b[39m\u001b[33mas it is likely to crash IPython. If you know what you are doing, \u001b[39m\u001b[33m\"\u001b[39m\n\u001b[32m    340\u001b[39m         \u001b[33m\"\u001b[39m\u001b[33myou can use builtins\u001b[39m\u001b[33m'\u001b[39m\u001b[33m open.\u001b[39m\u001b[33m\"\u001b[39m\n\u001b[32m    341\u001b[39m     )\n\u001b[32m--> \u001b[39m\u001b[32m343\u001b[39m \u001b[38;5;28;01mreturn\u001b[39;00m \u001b[43mio_open\u001b[49m\u001b[43m(\u001b[49m\u001b[43mfile\u001b[49m\u001b[43m,\u001b[49m\u001b[43m \u001b[49m\u001b[43m*\u001b[49m\u001b[43margs\u001b[49m\u001b[43m,\u001b[49m\u001b[43m \u001b[49m\u001b[43m*\u001b[49m\u001b[43m*\u001b[49m\u001b[43mkwargs\u001b[49m\u001b[43m)\u001b[49m\n",
      "\u001b[31mFileNotFoundError\u001b[39m: [Errno 2] No such file or directory: 'dane.txt'"
     ]
    }
   ],
   "source": [
    "    file = open(\"dane.txt\", \"r\")\n",
    "    file.write(\"Hello World!\")"
   ]
  },
  {
   "cell_type": "code",
   "execution_count": 58,
   "id": "65bd6307-d161-4960-b907-41b71ad73444",
   "metadata": {},
   "outputs": [
    {
     "name": "stdout",
     "output_type": "stream",
     "text": [
      "['what', 'is', 'your', 'name', '?']\n",
      "<map object at 0x3f806fca00>\n"
     ]
    }
   ],
   "source": [
    "text1 = \" what is your name ?\"\n",
    "words = text1.split()\n",
    "print(words)\n",
    "length = map(lambda w1: len(w1), text1)\n",
    "print(length)"
   ]
  },
  {
   "cell_type": "code",
   "execution_count": 57,
   "id": "62fe5edd-aba1-4319-8328-6de4b0735cd6",
   "metadata": {},
   "outputs": [
    {
     "data": {
      "text/plain": [
       "\u001b[31mInit signature:\u001b[39m map(self, /, *args, **kwargs)\n",
       "\u001b[31mDocstring:\u001b[39m     \n",
       "map(func, *iterables) --> map object\n",
       "\n",
       "Make an iterator that computes the function using arguments from\n",
       "each of the iterables.  Stops when the shortest iterable is exhausted.\n",
       "\u001b[31mType:\u001b[39m           type\n",
       "\u001b[31mSubclasses:\u001b[39m     "
      ]
     },
     "metadata": {},
     "output_type": "display_data"
    }
   ],
   "source": [
    "map?"
   ]
  },
  {
   "cell_type": "code",
   "execution_count": 59,
   "id": "0fae001f-9022-4a46-9b95-ccb848ab9337",
   "metadata": {},
   "outputs": [
    {
     "name": "stdout",
     "output_type": "stream",
     "text": [
      "['what', 'is', 'your', 'name', '?']\n",
      "[1, 1, 1, 1, 1, 1, 1, 1, 1, 1, 1, 1, 1, 1, 1, 1, 1, 1, 1, 1]\n"
     ]
    }
   ],
   "source": [
    "text1 = \" what is your name ?\"\n",
    "words = text1.split()\n",
    "print(words)\n",
    "length = list(map(lambda w1: len(w1), text1))\n",
    "print(length)"
   ]
  },
  {
   "cell_type": "code",
   "execution_count": null,
   "id": "510bb311-4afb-4f57-a822-eec31af8af4b",
   "metadata": {},
   "outputs": [],
   "source": []
  },
  {
   "cell_type": "code",
   "execution_count": null,
   "id": "c1db466a-5363-4e95-aa10-40bc38b3580c",
   "metadata": {},
   "outputs": [],
   "source": []
  },
  {
   "cell_type": "code",
   "execution_count": null,
   "id": "4f61761b-8132-4bbf-a908-4cb5a4c1ce2b",
   "metadata": {},
   "outputs": [],
   "source": []
  },
  {
   "cell_type": "code",
   "execution_count": null,
   "id": "a65a2485-6ab4-4ae7-8fe4-ea873fde64b5",
   "metadata": {},
   "outputs": [],
   "source": []
  },
  {
   "cell_type": "code",
   "execution_count": null,
   "id": "37ac2236-72d1-49d5-a831-c58e7d49c2b9",
   "metadata": {},
   "outputs": [],
   "source": []
  },
  {
   "cell_type": "code",
   "execution_count": null,
   "id": "e6cd4ab1-7b74-4cac-84c2-b9b381bb936d",
   "metadata": {},
   "outputs": [],
   "source": []
  },
  {
   "cell_type": "code",
   "execution_count": null,
   "id": "f2e284c5-80a1-4e14-871a-1f384469da53",
   "metadata": {},
   "outputs": [],
   "source": []
  },
  {
   "cell_type": "code",
   "execution_count": null,
   "id": "8574e20a-b35a-4a47-addb-ee51349e8132",
   "metadata": {},
   "outputs": [],
   "source": []
  },
  {
   "cell_type": "code",
   "execution_count": null,
   "id": "a204859f-efc0-4983-bf9b-8acf6549a23b",
   "metadata": {},
   "outputs": [],
   "source": []
  },
  {
   "cell_type": "code",
   "execution_count": null,
   "id": "a775562e-9131-4f5f-b07d-b2b4e89f494a",
   "metadata": {},
   "outputs": [],
   "source": []
  }
 ],
 "metadata": {
  "kernelspec": {
   "display_name": "Python 3 (ipykernel)",
   "language": "python",
   "name": "python3"
  },
  "language_info": {
   "codemirror_mode": {
    "name": "ipython",
    "version": 3
   },
   "file_extension": ".py",
   "mimetype": "text/x-python",
   "name": "python",
   "nbconvert_exporter": "python",
   "pygments_lexer": "ipython3",
   "version": "3.12.3"
  }
 },
 "nbformat": 4,
 "nbformat_minor": 5
}
