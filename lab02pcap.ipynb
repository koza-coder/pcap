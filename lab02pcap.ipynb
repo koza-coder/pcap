{
 "cells": [
  {
   "cell_type": "code",
   "execution_count": 1,
   "id": "6bc428a4-8b0e-4dcc-a1c0-9d5cf9c73065",
   "metadata": {},
   "outputs": [
    {
     "ename": "SyntaxError",
     "evalue": "default 'except:' must be last (2670883248.py, line 3)",
     "output_type": "error",
     "traceback": [
      "\u001b[0;36m  Cell \u001b[0;32mIn[1], line 3\u001b[0;36m\u001b[0m\n\u001b[0;31m    except:\u001b[0m\n\u001b[0m    ^\u001b[0m\n\u001b[0;31mSyntaxError\u001b[0m\u001b[0;31m:\u001b[0m default 'except:' must be last\n"
     ]
    }
   ],
   "source": [
    "\n",
    "    try:\n",
    "        raise Exception\n",
    "    except:\n",
    "        print(\"c\")\n",
    "    except BaseException:\n",
    "        print(\"a\")\n",
    "    except Exception:\n",
    "        print(\"b\")\n"
   ]
  },
  {
   "cell_type": "code",
   "execution_count": 4,
   "id": "ae4751ba-d8ee-404e-8634-121f627f9e41",
   "metadata": {},
   "outputs": [
    {
     "ename": "TypeError",
     "evalue": "Test.__init__() takes from 1 to 2 positional arguments but 3 were given",
     "output_type": "error",
     "traceback": [
      "\u001b[0;31m---------------------------------------------------------------------------\u001b[0m",
      "\u001b[0;31mTypeError\u001b[0m                                 Traceback (most recent call last)",
      "Cell \u001b[0;32mIn[4], line 5\u001b[0m\n\u001b[1;32m      2\u001b[0m     \u001b[38;5;28;01mdef\u001b[39;00m \u001b[38;5;21m__init__\u001b[39m(\u001b[38;5;28mself\u001b[39m, x\u001b[38;5;241m=\u001b[39m\u001b[38;5;241m0\u001b[39m):\n\u001b[1;32m      3\u001b[0m         \u001b[38;5;28mself\u001b[39m\u001b[38;5;241m.\u001b[39mx \u001b[38;5;241m=\u001b[39m x\n\u001b[0;32m----> 5\u001b[0m abc \u001b[38;5;241m=\u001b[39m \u001b[43mTest\u001b[49m\u001b[43m(\u001b[49m\u001b[38;5;241;43m1\u001b[39;49m\u001b[43m,\u001b[49m\u001b[38;5;241;43m2\u001b[39;49m\u001b[43m)\u001b[49m\n",
      "\u001b[0;31mTypeError\u001b[0m: Test.__init__() takes from 1 to 2 positional arguments but 3 were given"
     ]
    }
   ],
   "source": [
    "\n",
    "    class Test:\n",
    "        def __init__(self, x=0):\n",
    "            self.x = x\n",
    "\n",
    "abc = Test(1,2)"
   ]
  },
  {
   "cell_type": "code",
   "execution_count": 6,
   "id": "a3c84959-0e6f-4273-b40a-b397fa7000c3",
   "metadata": {},
   "outputs": [
    {
     "name": "stdout",
     "output_type": "stream",
     "text": [
      "[0, 1, 1]\n"
     ]
    }
   ],
   "source": [
    "class MyClass:\n",
    "    def __init__(self, initial):\n",
    "        self.store = initial\n",
    " \n",
    "    def put(self, new):\n",
    "        self.store.append(new)\n",
    " \n",
    "    def get(self):\n",
    "        return self.store\n",
    " \n",
    "    def dup(self):\n",
    "        self.store.append(self.store[-1])\n",
    "\n",
    "\n",
    "object_1 = MyClass([0])\n",
    "object_1.put(1)\n",
    "object_1.dup()\n",
    "print(object_1.get())"
   ]
  },
  {
   "cell_type": "code",
   "execution_count": 7,
   "id": "67553d84-a363-4cf0-bf1b-64467237b196",
   "metadata": {},
   "outputs": [
    {
     "name": "stdout",
     "output_type": "stream",
     "text": [
      "try\n",
      "finally\n"
     ]
    }
   ],
   "source": [
    "    try:\n",
    "        print('try')\n",
    "    except:\n",
    "        print('except')\n",
    "    finally:\n",
    "        print('finally')\n",
    "\n",
    "\n"
   ]
  },
  {
   "cell_type": "code",
   "execution_count": 12,
   "id": "ef2bfe51-3b9d-4719-bfee-169fbcf6adfe",
   "metadata": {},
   "outputs": [
    {
     "name": "stdout",
     "output_type": "stream",
     "text": [
      "Before the exit!\n"
     ]
    },
    {
     "ename": "AttributeError",
     "evalue": "module 'sys' has no attribute 'terminate'",
     "output_type": "error",
     "traceback": [
      "\u001b[0;31m---------------------------------------------------------------------------\u001b[0m",
      "\u001b[0;31mAttributeError\u001b[0m                            Traceback (most recent call last)",
      "Cell \u001b[0;32mIn[12], line 6\u001b[0m\n\u001b[1;32m      2\u001b[0m \u001b[38;5;28mprint\u001b[39m(\u001b[38;5;124m'\u001b[39m\u001b[38;5;124mBefore the exit!\u001b[39m\u001b[38;5;124m'\u001b[39m)  \u001b[38;5;66;03m# Before the exit!\u001b[39;00m\n\u001b[1;32m      3\u001b[0m \u001b[38;5;66;03m#sys.exit()\u001b[39;00m\n\u001b[1;32m      4\u001b[0m \u001b[38;5;66;03m#sys.halt()      # AttributeError: ...\u001b[39;00m\n\u001b[1;32m      5\u001b[0m \u001b[38;5;66;03m#sys.stop()      # AttributeError: ...\u001b[39;00m\n\u001b[0;32m----> 6\u001b[0m \u001b[43msys\u001b[49m\u001b[38;5;241;43m.\u001b[39;49m\u001b[43mterminate\u001b[49m()  \u001b[38;5;66;03m# AttributeError: ...\u001b[39;00m\n\u001b[1;32m      7\u001b[0m \u001b[38;5;28mprint\u001b[39m(\u001b[38;5;124m'\u001b[39m\u001b[38;5;124mAfter the exit!\u001b[39m\u001b[38;5;124m'\u001b[39m)\n",
      "\u001b[0;31mAttributeError\u001b[0m: module 'sys' has no attribute 'terminate'"
     ]
    }
   ],
   "source": [
    "    import sys\n",
    "    print('Before the exit!')  # Before the exit!\n",
    "    #sys.exit()\n",
    "    #sys.halt()      # AttributeError: ...\n",
    "    #sys.stop()      # AttributeError: ...\n",
    "    sys.terminate()  # AttributeError: ...\n",
    "    print('After the exit!')"
   ]
  },
  {
   "cell_type": "code",
   "execution_count": 13,
   "id": "564b4e02-a5f8-4c36-8347-260af3814791",
   "metadata": {},
   "outputs": [
    {
     "name": "stdout",
     "output_type": "stream",
     "text": [
      "[4, 3, 2]\n"
     ]
    }
   ],
   "source": [
    "    a = [1, 2, 3, 4, 5]\n",
    "    print(a[3:0:-1])  # [4, 3, 2]"
   ]
  },
  {
   "cell_type": "code",
   "execution_count": 14,
   "id": "0d485d81-4afd-4e87-841d-97b1e35dd67d",
   "metadata": {},
   "outputs": [
    {
     "data": {
      "text/plain": [
       "5.0"
      ]
     },
     "execution_count": 14,
     "metadata": {},
     "output_type": "execute_result"
    }
   ],
   "source": [
    "5/1"
   ]
  },
  {
   "cell_type": "code",
   "execution_count": 15,
   "id": "f9293162-1abd-4922-821d-31fe73f3b836",
   "metadata": {},
   "outputs": [
    {
     "name": "stdout",
     "output_type": "stream",
     "text": [
      "None\n"
     ]
    }
   ],
   "source": [
    "    data = {}\n",
    "     \n",
    "     \n",
    "    def func(d, key, value):\n",
    "        d[key] = value\n",
    "     \n",
    "     \n",
    "    print(func(data, '1', 'Peter'))"
   ]
  },
  {
   "cell_type": "code",
   "execution_count": 16,
   "id": "2b7f01c8-1b5f-48ce-900a-030bfdc46f23",
   "metadata": {},
   "outputs": [
    {
     "name": "stdout",
     "output_type": "stream",
     "text": [
      "None\n",
      "{'1': 'Peter'}\n"
     ]
    }
   ],
   "source": [
    "    data = {}\n",
    "     \n",
    "     \n",
    "    def func(d, key, value):\n",
    "        d[key] = value\n",
    "     \n",
    "     \n",
    "    print(func(data, '1', 'Peter'))\n",
    "    print(data)"
   ]
  },
  {
   "cell_type": "code",
   "execution_count": 17,
   "id": "0c530040-26ee-4297-a5ef-641d45885751",
   "metadata": {},
   "outputs": [
    {
     "name": "stdout",
     "output_type": "stream",
     "text": [
      "3 1\n"
     ]
    }
   ],
   "source": [
    "    num = 1\n",
    "     \n",
    "     \n",
    "    def func():\n",
    "        num = 3\n",
    "        print(num, end=' ')\n",
    "     \n",
    "     \n",
    "    func()\n",
    "     \n",
    "    print(num)"
   ]
  },
  {
   "cell_type": "code",
   "execution_count": 19,
   "id": "28ef51ee-22b4-47ff-b100-daed4099d17e",
   "metadata": {},
   "outputs": [
    {
     "name": "stdout",
     "output_type": "stream",
     "text": [
      "2\n",
      "\\\\\n"
     ]
    }
   ],
   "source": [
    "    x = '\\\\\\\\'\n",
    "    print(len(x))\n",
    "    print(x)"
   ]
  },
  {
   "cell_type": "code",
   "execution_count": 20,
   "id": "97d0a5aa-84e3-4e8a-b97c-544ac37fad54",
   "metadata": {},
   "outputs": [
    {
     "name": "stdout",
     "output_type": "stream",
     "text": [
      "I am a function, goo goo g'joob!\n"
     ]
    }
   ],
   "source": [
    "text = '''\n",
    "def func():\n",
    "    print(\"I am a function, goo goo g'joob!\")\n",
    "'''\n",
    "with open('mod.py', 'w') as f:\n",
    "    f.write(text)\n",
    " \n",
    "import mod\n",
    "mod.func()  # I am a function, goo goo g'joob!"
   ]
  },
  {
   "cell_type": "code",
   "execution_count": 21,
   "id": "ed6eef0d-21b3-4739-aa9f-7b9dfb815820",
   "metadata": {},
   "outputs": [
    {
     "name": "stdout",
     "output_type": "stream",
     "text": [
      "['large', 'medium', 'small']\n"
     ]
    }
   ],
   "source": [
    "\n",
    "    import os\n",
    "     \n",
    "    os.mkdir('thumbnails')\n",
    "    os.chdir('thumbnails')\n",
    "     \n",
    "    sizes = ['small', 'medium', 'large']\n",
    "     \n",
    "    for size in sizes:\n",
    "        os.mkdir(size)\n",
    "     \n",
    "    print(os.listdir())"
   ]
  },
  {
   "cell_type": "code",
   "execution_count": 22,
   "id": "3b4e0f7d-da79-4eae-8a4b-2c62f02b7d06",
   "metadata": {},
   "outputs": [
    {
     "data": {
      "text/plain": [
       "\u001b[0;31mSignature:\u001b[0m \u001b[0mos\u001b[0m\u001b[0;34m.\u001b[0m\u001b[0mlistdir\u001b[0m\u001b[0;34m(\u001b[0m\u001b[0mpath\u001b[0m\u001b[0;34m=\u001b[0m\u001b[0;32mNone\u001b[0m\u001b[0;34m)\u001b[0m\u001b[0;34m\u001b[0m\u001b[0;34m\u001b[0m\u001b[0m\n",
       "\u001b[0;31mDocstring:\u001b[0m\n",
       "Return a list containing the names of the files in the directory.\n",
       "\n",
       "path can be specified as either str, bytes, or a path-like object.  If path is bytes,\n",
       "  the filenames returned will also be bytes; in all other circumstances\n",
       "  the filenames returned will be str.\n",
       "If path is None, uses the path='.'.\n",
       "On some platforms, path may also be specified as an open file descriptor;\\\n",
       "  the file descriptor must refer to a directory.\n",
       "  If this functionality is unavailable, using it raises NotImplementedError.\n",
       "\n",
       "The list is in arbitrary order.  It does not include the special\n",
       "entries '.' and '..' even if they are present in the directory.\n",
       "\u001b[0;31mType:\u001b[0m      builtin_function_or_method"
      ]
     },
     "metadata": {},
     "output_type": "display_data"
    }
   ],
   "source": [
    "os.listdir?"
   ]
  },
  {
   "cell_type": "code",
   "execution_count": 23,
   "id": "6ea4153f-dd18-4bce-acc9-648d520b53c7",
   "metadata": {},
   "outputs": [
    {
     "name": "stdout",
     "output_type": "stream",
     "text": [
      "ace"
     ]
    }
   ],
   "source": [
    "\n",
    "    def func(data):\n",
    "        for d in data[::2]:\n",
    "            yield d\n",
    "     \n",
    "    for x in func('abcdef'):\n",
    "        print(x, end='')"
   ]
  },
  {
   "cell_type": "code",
   "execution_count": 24,
   "id": "e9d84dce-a33a-4c1e-b01f-f181b3ce39ba",
   "metadata": {},
   "outputs": [
    {
     "name": "stdout",
     "output_type": "stream",
     "text": [
      "Hello\n",
      "WelcomeWelcomeWelcome\n"
     ]
    }
   ],
   "source": [
    "    def func(message, num=1):\n",
    "        print(message * num)\n",
    "     \n",
    "     \n",
    "    func('Hello')\n",
    "    func('Welcome', 3)"
   ]
  },
  {
   "cell_type": "code",
   "execution_count": 25,
   "id": "4271a618-7e80-4996-9961-f305699b475d",
   "metadata": {},
   "outputs": [
    {
     "name": "stdout",
     "output_type": "stream",
     "text": [
      "2 3 4 5 6 6 "
     ]
    }
   ],
   "source": [
    "    data = [1, 2, 3, 4, 5, 6]\n",
    "     \n",
    "    for i in range(1, 6):\n",
    "        data[i - 1] = data[i]\n",
    "     \n",
    "    for i in range(0, 6):\n",
    "        print(data[i], end=' ')"
   ]
  },
  {
   "cell_type": "code",
   "execution_count": 26,
   "id": "c908c7ec-88fe-4a85-b734-6f15d57e1a80",
   "metadata": {},
   "outputs": [
    {
     "name": "stdout",
     "output_type": "stream",
     "text": [
      "2 3 4 5 6 6 "
     ]
    }
   ],
   "source": [
    "    data = [1, 2, 3, 4, 5, 6]\n",
    "     \n",
    "    for i in range(1, 6):\n",
    "        data[i - 1] = data[i]\n",
    "     \n",
    "    for i in range(0, 6):\n",
    "        print(data[i], end=' ')"
   ]
  },
  {
   "cell_type": "code",
   "execution_count": 4,
   "id": "514da56e-e5a0-4bff-8c1d-f9d86fb98ec0",
   "metadata": {},
   "outputs": [
    {
     "name": "stdout",
     "output_type": "stream",
     "text": [
      "[5, 6]\n",
      "4513087360\n",
      "[5, 6, 10]\n",
      "4513087360\n"
     ]
    }
   ],
   "source": [
    "def updateList(list1):\n",
    "    list1 += [10]\n",
    "\n",
    "n = [5, 6]\n",
    "print(n)\n",
    "print(id(n))                  # 140312184155336\n",
    "updateList(n)\n",
    "print(n)                      # [5, 6, 10]\n",
    "print(id(n))                  # 140312184155336"
   ]
  },
  {
   "cell_type": "code",
   "execution_count": 6,
   "id": "78e58d3f-8aeb-4108-b8cd-6118f3aa1d51",
   "metadata": {},
   "outputs": [
    {
     "name": "stdout",
     "output_type": "stream",
     "text": [
      "5\n",
      "4464918896\n",
      "4464918896\n",
      "5\n"
     ]
    }
   ],
   "source": [
    "def updateNumber(n):\n",
    "    print(id(n))\n",
    "    n += 10\n",
    "\n",
    "b = 5\n",
    "print(b)\n",
    "print(id(b))                   # 10055680\n",
    "updateNumber(b)                # 10055680\n",
    "print(b)                       # 5"
   ]
  },
  {
   "cell_type": "code",
   "execution_count": 7,
   "id": "e289687a-c7f4-4eb8-a6f3-b75a18134d75",
   "metadata": {},
   "outputs": [],
   "source": [
    "b = b+5"
   ]
  },
  {
   "cell_type": "code",
   "execution_count": 8,
   "id": "f50f672e-653b-4fc9-bf3e-3bcaa6c3b0fd",
   "metadata": {},
   "outputs": [
    {
     "data": {
      "text/plain": [
       "10"
      ]
     },
     "execution_count": 8,
     "metadata": {},
     "output_type": "execute_result"
    }
   ],
   "source": [
    "b"
   ]
  },
  {
   "cell_type": "code",
   "execution_count": 9,
   "id": "5dcd9ed6-b6f1-4151-812d-8d69bb36fc0c",
   "metadata": {},
   "outputs": [
    {
     "ename": "ValueError",
     "evalue": "I/O operation on closed file.",
     "output_type": "error",
     "traceback": [
      "\u001b[0;31m---------------------------------------------------------------------------\u001b[0m",
      "\u001b[0;31mValueError\u001b[0m                                Traceback (most recent call last)",
      "Cell \u001b[0;32mIn[9], line 5\u001b[0m\n\u001b[1;32m      3\u001b[0m file\u001b[38;5;241m.\u001b[39mwritelines(colors)\n\u001b[1;32m      4\u001b[0m file\u001b[38;5;241m.\u001b[39mclose()\n\u001b[0;32m----> 5\u001b[0m \u001b[43mfile\u001b[49m\u001b[38;5;241;43m.\u001b[39;49m\u001b[43mseek\u001b[49m\u001b[43m(\u001b[49m\u001b[38;5;241;43m0\u001b[39;49m\u001b[43m)\u001b[49m\n\u001b[1;32m      6\u001b[0m \u001b[38;5;28;01mfor\u001b[39;00m line \u001b[38;5;129;01min\u001b[39;00m file:\n\u001b[1;32m      7\u001b[0m     \u001b[38;5;28mprint\u001b[39m(line)\n",
      "\u001b[0;31mValueError\u001b[0m: I/O operation on closed file."
     ]
    }
   ],
   "source": [
    "    colors = ['red\\n', 'yellow\\n', 'blue\\n']\n",
    "    file = open('wellert.txt', 'w+')\n",
    "    file.writelines(colors)\n",
    "    file.close()\n",
    "    file.seek(0)\n",
    "    for line in file:\n",
    "        print(line)"
   ]
  },
  {
   "cell_type": "code",
   "execution_count": 11,
   "id": "72bee42b-1883-4398-b604-e8b4c26d7c43",
   "metadata": {},
   "outputs": [
    {
     "name": "stdout",
     "output_type": "stream",
     "text": [
      "red\n",
      "\n",
      "yellow\n",
      "\n",
      "blue\n",
      "\n"
     ]
    }
   ],
   "source": [
    "    colors = ['red\\n', 'yellow\\n', 'blue\\n']\n",
    "    file = open('wellert.txt', 'w+')\n",
    "    file.writelines(colors)\n",
    "    #file.close()\n",
    "    file.seek(0)\n",
    "    for line in file:\n",
    "        print(line)\n",
    "    file.close()"
   ]
  },
  {
   "cell_type": "code",
   "execution_count": 12,
   "id": "58d200ac-af77-489d-9eda-c0bb3836a5ad",
   "metadata": {},
   "outputs": [
    {
     "name": "stdout",
     "output_type": "stream",
     "text": [
      "lr"
     ]
    }
   ],
   "source": [
    "\n",
    "    vect = [\"alpha\", \"bravo\", \"charlie\"]\n",
    "    new_vect = filter(lambda s: s[-1].upper() in [\"A\", \"O\"], vect)\n",
    "    for x in new_vect:\n",
    "        print(x[1], end=\"\")"
   ]
  },
  {
   "cell_type": "code",
   "execution_count": null,
   "id": "e7931344-5784-4608-85bb-05c2bf09e215",
   "metadata": {},
   "outputs": [],
   "source": [
    "\n",
    "    vect = [\"alpha\", \"bravo\", \"charlie\"]\n",
    "    new_vect = filter(lambda s: s[-1].upper() in [\"A\", \"O\"], vect)\n",
    "    for x in new_vect:\n",
    "        print(x[1], end=\"\")"
   ]
  },
  {
   "cell_type": "code",
   "execution_count": 13,
   "id": "892238b0-56f9-4231-98cc-25b7f0ebb92a",
   "metadata": {},
   "outputs": [
    {
     "data": {
      "text/plain": [
       "\u001b[0;31mInit signature:\u001b[0m \u001b[0mfilter\u001b[0m\u001b[0;34m(\u001b[0m\u001b[0mself\u001b[0m\u001b[0;34m,\u001b[0m \u001b[0;34m/\u001b[0m\u001b[0;34m,\u001b[0m \u001b[0;34m*\u001b[0m\u001b[0margs\u001b[0m\u001b[0;34m,\u001b[0m \u001b[0;34m**\u001b[0m\u001b[0mkwargs\u001b[0m\u001b[0;34m)\u001b[0m\u001b[0;34m\u001b[0m\u001b[0;34m\u001b[0m\u001b[0m\n",
       "\u001b[0;31mDocstring:\u001b[0m     \n",
       "filter(function or None, iterable) --> filter object\n",
       "\n",
       "Return an iterator yielding those items of iterable for which function(item)\n",
       "is true. If function is None, return the items that are true.\n",
       "\u001b[0;31mType:\u001b[0m           type\n",
       "\u001b[0;31mSubclasses:\u001b[0m     "
      ]
     },
     "metadata": {},
     "output_type": "display_data"
    }
   ],
   "source": [
    "filter?"
   ]
  },
  {
   "cell_type": "code",
   "execution_count": 14,
   "id": "7d010a13-c9d2-4739-a6c5-dbaf802b3c94",
   "metadata": {},
   "outputs": [
    {
     "data": {
      "text/plain": [
       "\u001b[0;31mSignature:\u001b[0m \u001b[0ml\u001b[0m\u001b[0;34m.\u001b[0m\u001b[0msort\u001b[0m\u001b[0;34m(\u001b[0m\u001b[0;34m*\u001b[0m\u001b[0;34m,\u001b[0m \u001b[0mkey\u001b[0m\u001b[0;34m=\u001b[0m\u001b[0;32mNone\u001b[0m\u001b[0;34m,\u001b[0m \u001b[0mreverse\u001b[0m\u001b[0;34m=\u001b[0m\u001b[0;32mFalse\u001b[0m\u001b[0;34m)\u001b[0m\u001b[0;34m\u001b[0m\u001b[0;34m\u001b[0m\u001b[0m\n",
       "\u001b[0;31mDocstring:\u001b[0m\n",
       "Sort the list in ascending order and return None.\n",
       "\n",
       "The sort is in-place (i.e. the list itself is modified) and stable (i.e. the\n",
       "order of two equal elements is maintained).\n",
       "\n",
       "If a key function is given, apply it once to each list item and sort them,\n",
       "ascending or descending, according to their function values.\n",
       "\n",
       "The reverse flag can be set to sort in descending order.\n",
       "\u001b[0;31mType:\u001b[0m      builtin_function_or_method"
      ]
     },
     "metadata": {},
     "output_type": "display_data"
    }
   ],
   "source": [
    "l =[1,3,6]\n",
    "l.sort?"
   ]
  },
  {
   "cell_type": "code",
   "execution_count": 15,
   "id": "d590dc75-49ea-44c2-8ea5-6672013b689e",
   "metadata": {},
   "outputs": [
    {
     "name": "stdout",
     "output_type": "stream",
     "text": [
      "abcefg\n"
     ]
    }
   ],
   "source": [
    "print(\"abc\" \"efg\")"
   ]
  },
  {
   "cell_type": "code",
   "execution_count": 17,
   "id": "5681b5d8-9b25-4037-ba53-f1157f41335a",
   "metadata": {},
   "outputs": [
    {
     "ename": "SyntaxError",
     "evalue": "invalid syntax. Perhaps you forgot a comma? (295369695.py, line 2)",
     "output_type": "error",
     "traceback": [
      "\u001b[0;36m  Cell \u001b[0;32mIn[17], line 2\u001b[0;36m\u001b[0m\n\u001b[0;31m    print(\"abc\" a)\u001b[0m\n\u001b[0m          ^\u001b[0m\n\u001b[0;31mSyntaxError\u001b[0m\u001b[0;31m:\u001b[0m invalid syntax. Perhaps you forgot a comma?\n"
     ]
    }
   ],
   "source": [
    "a=\"efg\"\n",
    "print(\"abc\" a)"
   ]
  },
  {
   "cell_type": "code",
   "execution_count": 18,
   "id": "401d8025-6f8c-43fc-965f-b17a002707d5",
   "metadata": {},
   "outputs": [
    {
     "data": {
      "text/plain": [
       "\u001b[0;31mDocstring:\u001b[0m\n",
       "print(value, ..., sep=' ', end='\\n', file=sys.stdout, flush=False)\n",
       "\n",
       "Prints the values to a stream, or to sys.stdout by default.\n",
       "Optional keyword arguments:\n",
       "file:  a file-like object (stream); defaults to the current sys.stdout.\n",
       "sep:   string inserted between values, default a space.\n",
       "end:   string appended after the last value, default a newline.\n",
       "flush: whether to forcibly flush the stream.\n",
       "\u001b[0;31mType:\u001b[0m      builtin_function_or_method"
      ]
     },
     "metadata": {},
     "output_type": "display_data"
    }
   ],
   "source": [
    "print?"
   ]
  },
  {
   "cell_type": "code",
   "execution_count": 19,
   "id": "be53590a-28b0-4bfc-9f8b-ea893f85aa92",
   "metadata": {},
   "outputs": [],
   "source": [
    "x = \"ijk\" \"xyz\" \"mnop\""
   ]
  },
  {
   "cell_type": "code",
   "execution_count": 20,
   "id": "9291e7f6-517a-43a4-8258-6d0ba2477b0f",
   "metadata": {},
   "outputs": [
    {
     "name": "stdout",
     "output_type": "stream",
     "text": [
      "ijkxyzmnop\n"
     ]
    }
   ],
   "source": [
    "print(x)"
   ]
  },
  {
   "cell_type": "code",
   "execution_count": 21,
   "id": "d7ad0dec-b9cd-49f9-8225-07d9388aa3fa",
   "metadata": {},
   "outputs": [],
   "source": [
    "    z = 3\n",
    "    y = 7\n",
    "    x = y == z and y > z or z > y and z != y"
   ]
  },
  {
   "cell_type": "code",
   "execution_count": 23,
   "id": "75ae4345-84bd-4dac-a309-e73653bfe15c",
   "metadata": {},
   "outputs": [
    {
     "data": {
      "text/plain": [
       "False"
      ]
     },
     "execution_count": 23,
     "metadata": {},
     "output_type": "execute_result"
    }
   ],
   "source": [
    "x"
   ]
  },
  {
   "cell_type": "code",
   "execution_count": 24,
   "id": "6b2aefa8-0f2e-4618-86b0-1dc57a834bfb",
   "metadata": {},
   "outputs": [
    {
     "name": "stdout",
     "output_type": "stream",
     "text": [
      "[\"I'm gonna make him an offer he can't refuse.testing new approach\"]\n",
      "[\"I'm\", 'gonna', 'make', 'him', 'an', 'offer', 'he', \"can't\", 'refuse.testing', 'new', 'approach']\n"
     ]
    }
   ],
   "source": [
    "    with open('data.txt', 'w') as f:\n",
    "        f.write(\"I'm gonna make him an offer he can't refuse.\")\n",
    "        f.write(\"testing new approach\")\n",
    "     \n",
    "    with open('data.txt', 'r') as f:\n",
    "        data = f.readlines()\n",
    "        print(data)  # [\"I'm gonna make him an offer he can't refuse.\"]\n",
    "        for line in data:\n",
    "            words = line.split()\n",
    "            print(words)"
   ]
  },
  {
   "cell_type": "code",
   "execution_count": 25,
   "id": "782ecad5-b609-4f4a-b7a2-b97f89fb31c7",
   "metadata": {},
   "outputs": [
    {
     "name": "stdout",
     "output_type": "stream",
     "text": [
      "True\n"
     ]
    }
   ],
   "source": [
    "x = None\n",
    "x = x == x\n",
    "print(x)"
   ]
  },
  {
   "cell_type": "code",
   "execution_count": 27,
   "id": "a4492247-79a6-4fff-ab42-d6f6cacb90c9",
   "metadata": {},
   "outputs": [
    {
     "name": "stdout",
     "output_type": "stream",
     "text": [
      "*\n",
      "*\n",
      "*\n",
      "*\n",
      "*\n",
      "*\n",
      "*\n",
      "*\n",
      "*\n",
      "*\n"
     ]
    }
   ],
   "source": [
    "    i = 0\n",
    "    while i < i + 2:\n",
    "        i += 1\n",
    "        print('*')\n",
    "        if i == 10: break  # Safeguard\n",
    "    else:\n",
    "        print('*')"
   ]
  },
  {
   "cell_type": "code",
   "execution_count": 29,
   "id": "0171320a-b7c7-4d92-8f36-c21804882f2e",
   "metadata": {},
   "outputs": [
    {
     "name": "stdout",
     "output_type": "stream",
     "text": [
      "True\n",
      "True\n",
      "False\n",
      "False\n",
      "2\n"
     ]
    }
   ],
   "source": [
    "class Control:\n",
    "    my_ID = 1\n",
    " \n",
    "    def say(self):\n",
    "        return self.my_ID\n",
    " \n",
    " \n",
    "class Button(Control):\n",
    "    my_ID = 2\n",
    " \n",
    " \n",
    "class Radio(Button):\n",
    "    def say(self):\n",
    "        return -self.my_ID\n",
    " \n",
    " \n",
    "selection = Radio()\n",
    "element = Control()\n",
    "start = Button()\n",
    " \n",
    " \n",
    "print(selection.my_ID == 2)       # True\n",
    "# Radio inherits from Button and therefore my_ID will be 2\n",
    " \n",
    "print(isinstance(start, Button))  # True\n",
    "# start is a direct object of Button.\n",
    " \n",
    "print(selection is element)       # False\n",
    "# The is operator check, whether two variables\n",
    "# point to the same object in the memory.\n",
    "# And selection and element are not even of the same class.\n",
    " \n",
    "print(start.my_ID == -2)          # False\n",
    "print(start.my_ID)  # 2\n",
    "# start is a Button and therefore my_ID will be 2"
   ]
  },
  {
   "cell_type": "code",
   "execution_count": 30,
   "id": "d989fade-f161-416b-906a-acf02a535c18",
   "metadata": {},
   "outputs": [
    {
     "name": "stdout",
     "output_type": "stream",
     "text": [
      "-1\n"
     ]
    }
   ],
   "source": [
    "    x, y = 3.0, 0.0\n",
    "    try:\n",
    "        z = x / y\n",
    "    except ArithmeticError:\n",
    "        z = -1\n",
    "    else:\n",
    "        z = -2\n",
    "    print(z)  # -1"
   ]
  },
  {
   "cell_type": "code",
   "execution_count": 31,
   "id": "3dbad6c4-d614-470e-963e-734962a1ac2e",
   "metadata": {},
   "outputs": [
    {
     "ename": "ZeroDivisionError",
     "evalue": "division by zero",
     "output_type": "error",
     "traceback": [
      "\u001b[0;31m---------------------------------------------------------------------------\u001b[0m",
      "\u001b[0;31mZeroDivisionError\u001b[0m                         Traceback (most recent call last)",
      "Cell \u001b[0;32mIn[31], line 1\u001b[0m\n\u001b[0;32m----> 1\u001b[0m \u001b[38;5;28mprint\u001b[39m(\u001b[38;5;241;43m3\u001b[39;49m\u001b[38;5;241;43m/\u001b[39;49m\u001b[38;5;241;43m0\u001b[39;49m)\n",
      "\u001b[0;31mZeroDivisionError\u001b[0m: division by zero"
     ]
    }
   ],
   "source": [
    "print(3/0)"
   ]
  },
  {
   "cell_type": "code",
   "execution_count": 41,
   "id": "56359aa6-dd2d-4aff-8455-2848c726dedd",
   "metadata": {},
   "outputs": [
    {
     "name": "stdout",
     "output_type": "stream",
     "text": [
      "Arithmeticerror1 catched division by zero ('division by zero',) division by zero\n",
      "kontynuujemy dalej\n",
      "i jeszcze dalej\n"
     ]
    },
    {
     "name": "stderr",
     "output_type": "stream",
     "text": [
      "  File \"/var/folders/0k/y1n7ppts7_v3xdcnfdyk4k5r0000gn/T/ipykernel_24836/4165220082.py\", line 3, in <module>\n",
      "    print(3/0)\n"
     ]
    }
   ],
   "source": [
    "import traceback\n",
    "try:\n",
    "    print(3/0)\n",
    "except ArithmeticError as err:\n",
    "    print(\"Arithmeticerror1 catched\", err, err.args, err.with_traceback(err.__traceback__))\n",
    "    traceback.print_tb(err.__traceback__)\n",
    "    print(\"kontynuujemy dalej\")\n",
    "print(\"i jeszcze dalej\")"
   ]
  },
  {
   "cell_type": "code",
   "execution_count": 47,
   "id": "1fec9a81-5077-46b8-9535-2ee13a10a6d2",
   "metadata": {},
   "outputs": [
    {
     "name": "stdout",
     "output_type": "stream",
     "text": [
      "3\n"
     ]
    }
   ],
   "source": [
    "\n",
    "    people = {}\n",
    "     \n",
    "     \n",
    "    def add_person(index):\n",
    "        if index in people:\n",
    "            people[index] += 1\n",
    "        else:\n",
    "            people[index] = 1\n",
    "     \n",
    "     \n",
    "    add_person('Peter')\n",
    "    add_person('Paul')\n",
    "    add_person('peter')\n",
    "     \n",
    "    print(len(people))"
   ]
  },
  {
   "cell_type": "code",
   "execution_count": 45,
   "id": "e0e47c10-b5af-4f78-8d1b-5dc2c227998a",
   "metadata": {},
   "outputs": [
    {
     "name": "stdout",
     "output_type": "stream",
     "text": [
      "{'Peter': 1}\n",
      "{'Peter': 1, 'Paul': 1}\n",
      "{'Peter': 1, 'Paul': 1, 'peter': 1}\n",
      "3\n"
     ]
    }
   ],
   "source": [
    "\n",
    "    people = {}\n",
    "     \n",
    "     \n",
    "    def add_person(index):\n",
    "        if index in people:\n",
    "            people[index] += 1\n",
    "        else:\n",
    "            people[index] = 1\n",
    "     \n",
    "     \n",
    "    add_person('Peter')\n",
    "    print(people)\n",
    "    add_person('Paul')\n",
    "    print(people)\n",
    "    add_person('peter')\n",
    "    print(people)\n",
    "     \n",
    "    print(len(people))"
   ]
  },
  {
   "cell_type": "code",
   "execution_count": 48,
   "id": "2586e2dd-7543-4bff-a77a-f4245309b155",
   "metadata": {},
   "outputs": [
    {
     "name": "stdout",
     "output_type": "stream",
     "text": [
      "4\n"
     ]
    }
   ],
   "source": [
    "print([1, 2, 3, 4].pop())  "
   ]
  },
  {
   "cell_type": "code",
   "execution_count": 49,
   "id": "7f93cceb-295a-4574-abd9-6e4532eb2867",
   "metadata": {},
   "outputs": [
    {
     "name": "stdout",
     "output_type": "stream",
     "text": [
      "\u001b[1m\u001b[36m__pycache__\u001b[m\u001b[m     lab01pcap.ipynb mod.py          \u001b[1m\u001b[36mthumbnails\u001b[m\u001b[m\n",
      "data.txt        lab02pcap.ipynb text.txt        wellert.txt\n"
     ]
    }
   ],
   "source": [
    "!ls"
   ]
  },
  {
   "cell_type": "code",
   "execution_count": 57,
   "id": "4fe7f2ae-35c4-4065-907d-682fef5676c7",
   "metadata": {},
   "outputs": [],
   "source": [
    "f = open(\"text.txt\",\"w\")"
   ]
  },
  {
   "cell_type": "code",
   "execution_count": 58,
   "id": "29c67573-2b0c-438b-8b44-b3e2036ded9c",
   "metadata": {},
   "outputs": [
    {
     "ename": "UnsupportedOperation",
     "evalue": "not readable",
     "output_type": "error",
     "traceback": [
      "\u001b[0;31m---------------------------------------------------------------------------\u001b[0m",
      "\u001b[0;31mUnsupportedOperation\u001b[0m                      Traceback (most recent call last)",
      "Cell \u001b[0;32mIn[58], line 1\u001b[0m\n\u001b[0;32m----> 1\u001b[0m a \u001b[38;5;241m=\u001b[39m \u001b[43mf\u001b[49m\u001b[38;5;241;43m.\u001b[39;49m\u001b[43mreadline\u001b[49m\u001b[43m(\u001b[49m\u001b[43m)\u001b[49m\n\u001b[1;32m      2\u001b[0m \u001b[38;5;28mprint\u001b[39m(a)\n",
      "\u001b[0;31mUnsupportedOperation\u001b[0m: not readable"
     ]
    }
   ],
   "source": [
    "a = f.readline()\n",
    "print(a)"
   ]
  },
  {
   "cell_type": "code",
   "execution_count": 59,
   "id": "5a2e853f-4a34-4278-bafb-0f7ca223bd23",
   "metadata": {},
   "outputs": [
    {
     "data": {
      "text/plain": [
       "\u001b[0;31mSignature:\u001b[0m\n",
       "\u001b[0mopen\u001b[0m\u001b[0;34m(\u001b[0m\u001b[0;34m\u001b[0m\n",
       "\u001b[0;34m\u001b[0m    \u001b[0mfile\u001b[0m\u001b[0;34m,\u001b[0m\u001b[0;34m\u001b[0m\n",
       "\u001b[0;34m\u001b[0m    \u001b[0mmode\u001b[0m\u001b[0;34m=\u001b[0m\u001b[0;34m'r'\u001b[0m\u001b[0;34m,\u001b[0m\u001b[0;34m\u001b[0m\n",
       "\u001b[0;34m\u001b[0m    \u001b[0mbuffering\u001b[0m\u001b[0;34m=\u001b[0m\u001b[0;34m-\u001b[0m\u001b[0;36m1\u001b[0m\u001b[0;34m,\u001b[0m\u001b[0;34m\u001b[0m\n",
       "\u001b[0;34m\u001b[0m    \u001b[0mencoding\u001b[0m\u001b[0;34m=\u001b[0m\u001b[0;32mNone\u001b[0m\u001b[0;34m,\u001b[0m\u001b[0;34m\u001b[0m\n",
       "\u001b[0;34m\u001b[0m    \u001b[0merrors\u001b[0m\u001b[0;34m=\u001b[0m\u001b[0;32mNone\u001b[0m\u001b[0;34m,\u001b[0m\u001b[0;34m\u001b[0m\n",
       "\u001b[0;34m\u001b[0m    \u001b[0mnewline\u001b[0m\u001b[0;34m=\u001b[0m\u001b[0;32mNone\u001b[0m\u001b[0;34m,\u001b[0m\u001b[0;34m\u001b[0m\n",
       "\u001b[0;34m\u001b[0m    \u001b[0mclosefd\u001b[0m\u001b[0;34m=\u001b[0m\u001b[0;32mTrue\u001b[0m\u001b[0;34m,\u001b[0m\u001b[0;34m\u001b[0m\n",
       "\u001b[0;34m\u001b[0m    \u001b[0mopener\u001b[0m\u001b[0;34m=\u001b[0m\u001b[0;32mNone\u001b[0m\u001b[0;34m,\u001b[0m\u001b[0;34m\u001b[0m\n",
       "\u001b[0;34m\u001b[0m\u001b[0;34m)\u001b[0m\u001b[0;34m\u001b[0m\u001b[0;34m\u001b[0m\u001b[0m\n",
       "\u001b[0;31mDocstring:\u001b[0m\n",
       "Open file and return a stream.  Raise OSError upon failure.\n",
       "\n",
       "file is either a text or byte string giving the name (and the path\n",
       "if the file isn't in the current working directory) of the file to\n",
       "be opened or an integer file descriptor of the file to be\n",
       "wrapped. (If a file descriptor is given, it is closed when the\n",
       "returned I/O object is closed, unless closefd is set to False.)\n",
       "\n",
       "mode is an optional string that specifies the mode in which the file\n",
       "is opened. It defaults to 'r' which means open for reading in text\n",
       "mode.  Other common values are 'w' for writing (truncating the file if\n",
       "it already exists), 'x' for creating and writing to a new file, and\n",
       "'a' for appending (which on some Unix systems, means that all writes\n",
       "append to the end of the file regardless of the current seek position).\n",
       "In text mode, if encoding is not specified the encoding used is platform\n",
       "dependent: locale.getpreferredencoding(False) is called to get the\n",
       "current locale encoding. (For reading and writing raw bytes use binary\n",
       "mode and leave encoding unspecified.) The available modes are:\n",
       "\n",
       "========= ===============================================================\n",
       "Character Meaning\n",
       "--------- ---------------------------------------------------------------\n",
       "'r'       open for reading (default)\n",
       "'w'       open for writing, truncating the file first\n",
       "'x'       create a new file and open it for writing\n",
       "'a'       open for writing, appending to the end of the file if it exists\n",
       "'b'       binary mode\n",
       "'t'       text mode (default)\n",
       "'+'       open a disk file for updating (reading and writing)\n",
       "'U'       universal newline mode (deprecated)\n",
       "========= ===============================================================\n",
       "\n",
       "The default mode is 'rt' (open for reading text). For binary random\n",
       "access, the mode 'w+b' opens and truncates the file to 0 bytes, while\n",
       "'r+b' opens the file without truncation. The 'x' mode implies 'w' and\n",
       "raises an `FileExistsError` if the file already exists.\n",
       "\n",
       "Python distinguishes between files opened in binary and text modes,\n",
       "even when the underlying operating system doesn't. Files opened in\n",
       "binary mode (appending 'b' to the mode argument) return contents as\n",
       "bytes objects without any decoding. In text mode (the default, or when\n",
       "'t' is appended to the mode argument), the contents of the file are\n",
       "returned as strings, the bytes having been first decoded using a\n",
       "platform-dependent encoding or using the specified encoding if given.\n",
       "\n",
       "'U' mode is deprecated and will raise an exception in future versions\n",
       "of Python.  It has no effect in Python 3.  Use newline to control\n",
       "universal newlines mode.\n",
       "\n",
       "buffering is an optional integer used to set the buffering policy.\n",
       "Pass 0 to switch buffering off (only allowed in binary mode), 1 to select\n",
       "line buffering (only usable in text mode), and an integer > 1 to indicate\n",
       "the size of a fixed-size chunk buffer.  When no buffering argument is\n",
       "given, the default buffering policy works as follows:\n",
       "\n",
       "* Binary files are buffered in fixed-size chunks; the size of the buffer\n",
       "  is chosen using a heuristic trying to determine the underlying device's\n",
       "  \"block size\" and falling back on `io.DEFAULT_BUFFER_SIZE`.\n",
       "  On many systems, the buffer will typically be 4096 or 8192 bytes long.\n",
       "\n",
       "* \"Interactive\" text files (files for which isatty() returns True)\n",
       "  use line buffering.  Other text files use the policy described above\n",
       "  for binary files.\n",
       "\n",
       "encoding is the name of the encoding used to decode or encode the\n",
       "file. This should only be used in text mode. The default encoding is\n",
       "platform dependent, but any encoding supported by Python can be\n",
       "passed.  See the codecs module for the list of supported encodings.\n",
       "\n",
       "errors is an optional string that specifies how encoding errors are to\n",
       "be handled---this argument should not be used in binary mode. Pass\n",
       "'strict' to raise a ValueError exception if there is an encoding error\n",
       "(the default of None has the same effect), or pass 'ignore' to ignore\n",
       "errors. (Note that ignoring encoding errors can lead to data loss.)\n",
       "See the documentation for codecs.register or run 'help(codecs.Codec)'\n",
       "for a list of the permitted encoding error strings.\n",
       "\n",
       "newline controls how universal newlines works (it only applies to text\n",
       "mode). It can be None, '', '\\n', '\\r', and '\\r\\n'.  It works as\n",
       "follows:\n",
       "\n",
       "* On input, if newline is None, universal newlines mode is\n",
       "  enabled. Lines in the input can end in '\\n', '\\r', or '\\r\\n', and\n",
       "  these are translated into '\\n' before being returned to the\n",
       "  caller. If it is '', universal newline mode is enabled, but line\n",
       "  endings are returned to the caller untranslated. If it has any of\n",
       "  the other legal values, input lines are only terminated by the given\n",
       "  string, and the line ending is returned to the caller untranslated.\n",
       "\n",
       "* On output, if newline is None, any '\\n' characters written are\n",
       "  translated to the system default line separator, os.linesep. If\n",
       "  newline is '' or '\\n', no translation takes place. If newline is any\n",
       "  of the other legal values, any '\\n' characters written are translated\n",
       "  to the given string.\n",
       "\n",
       "If closefd is False, the underlying file descriptor will be kept open\n",
       "when the file is closed. This does not work when a file name is given\n",
       "and must be True in that case.\n",
       "\n",
       "A custom opener can be used by passing a callable as *opener*. The\n",
       "underlying file descriptor for the file object is then obtained by\n",
       "calling *opener* with (*file*, *flags*). *opener* must return an open\n",
       "file descriptor (passing os.open as *opener* results in functionality\n",
       "similar to passing None).\n",
       "\n",
       "open() returns a file object whose type depends on the mode, and\n",
       "through which the standard file operations such as reading and writing\n",
       "are performed. When open() is used to open a file in a text mode ('w',\n",
       "'r', 'wt', 'rt', etc.), it returns a TextIOWrapper. When used to open\n",
       "a file in a binary mode, the returned class varies: in read binary\n",
       "mode, it returns a BufferedReader; in write binary and append binary\n",
       "modes, it returns a BufferedWriter, and in read/write mode, it returns\n",
       "a BufferedRandom.\n",
       "\n",
       "It is also possible to use a string or bytearray as a file for both\n",
       "reading and writing. For strings StringIO can be used like a file\n",
       "opened in a text mode, and for bytes a BytesIO can be used like a file\n",
       "opened in a binary mode.\n",
       "\u001b[0;31mType:\u001b[0m      function"
      ]
     },
     "metadata": {},
     "output_type": "display_data"
    }
   ],
   "source": [
    "open?"
   ]
  },
  {
   "cell_type": "code",
   "execution_count": 60,
   "id": "77b941ff-caec-4ff8-9db2-5fd84ddfd0e8",
   "metadata": {},
   "outputs": [
    {
     "name": "stdout",
     "output_type": "stream",
     "text": [
      "*\n"
     ]
    }
   ],
   "source": [
    "\n",
    "    i = 0\n",
    "    while i <= 5:\n",
    "        i += 1\n",
    "        if i % 2 == 0:\n",
    "            break\n",
    "        print('*')"
   ]
  },
  {
   "cell_type": "code",
   "execution_count": 62,
   "id": "aaada1f9-0148-41e3-8f93-9b0f908c6d10",
   "metadata": {},
   "outputs": [
    {
     "ename": "ValueError",
     "evalue": "tuple.index(x): x not in tuple",
     "output_type": "error",
     "traceback": [
      "\u001b[0;31m---------------------------------------------------------------------------\u001b[0m",
      "\u001b[0;31mValueError\u001b[0m                                Traceback (most recent call last)",
      "Cell \u001b[0;32mIn[62], line 2\u001b[0m\n\u001b[1;32m      1\u001b[0m foo \u001b[38;5;241m=\u001b[39m (\u001b[38;5;241m1\u001b[39m,\u001b[38;5;241m2\u001b[39m,\u001b[38;5;241m3\u001b[39m,\u001b[38;5;241m4\u001b[39m)\n\u001b[0;32m----> 2\u001b[0m \u001b[43mfoo\u001b[49m\u001b[38;5;241;43m.\u001b[39;49m\u001b[43mindex\u001b[49m\u001b[43m(\u001b[49m\u001b[38;5;241;43m5\u001b[39;49m\u001b[43m)\u001b[49m\n",
      "\u001b[0;31mValueError\u001b[0m: tuple.index(x): x not in tuple"
     ]
    }
   ],
   "source": [
    "foo = (1,2,3,4)\n",
    "foo.index(5)"
   ]
  },
  {
   "cell_type": "code",
   "execution_count": 63,
   "id": "bfa678ed-d870-46ba-89bc-e8ffbe95331a",
   "metadata": {},
   "outputs": [
    {
     "name": "stdout",
     "output_type": "stream",
     "text": [
      "True False\n"
     ]
    }
   ],
   "source": [
    "class Ceil:\n",
    "    Token = 1\n",
    " \n",
    "    def get_token(self):\n",
    "        return 1\n",
    " \n",
    " \n",
    "class Floor(Ceil):\n",
    "    def get_token(self):\n",
    "        return 2\n",
    " \n",
    "    def set_token(self):\n",
    "        pass\n",
    " \n",
    " \n",
    "holder = Floor()\n",
    "print(hasattr(holder, \"Token\"), hasattr(Ceil, \"set_token\"))"
   ]
  },
  {
   "cell_type": "code",
   "execution_count": 64,
   "id": "0c2d8322-0727-4188-9b38-2116bfd7a785",
   "metadata": {},
   "outputs": [
    {
     "name": "stdout",
     "output_type": "stream",
     "text": [
      "True True\n"
     ]
    }
   ],
   "source": [
    "class Ceil:\n",
    "    Token = 1\n",
    " \n",
    "    def get_token(self):\n",
    "        return 1\n",
    " \n",
    " \n",
    "class Floor(Ceil):\n",
    "    def get_token(self):\n",
    "        return 2\n",
    " \n",
    "    def set_token(self):\n",
    "        pass\n",
    " \n",
    " \n",
    "holder = Floor()\n",
    "print(hasattr(holder, \"Token\"), hasattr(Floor, \"set_token\"))"
   ]
  },
  {
   "cell_type": "code",
   "execution_count": 65,
   "id": "00c909e2-d161-4795-88da-45e364d8729d",
   "metadata": {},
   "outputs": [
    {
     "name": "stdout",
     "output_type": "stream",
     "text": [
      "python"
     ]
    }
   ],
   "source": [
    "\n",
    "    s = 'python'\n",
    "    for i in range(len(s)):\n",
    "        i = s[i].upper()\n",
    "    print(s, end='')"
   ]
  },
  {
   "cell_type": "code",
   "execution_count": 66,
   "id": "eed27996-e6fc-4fd4-8d9a-6fd4f295c6e2",
   "metadata": {},
   "outputs": [
    {
     "ename": "TypeError",
     "evalue": "'str' object does not support item assignment",
     "output_type": "error",
     "traceback": [
      "\u001b[0;31m---------------------------------------------------------------------------\u001b[0m",
      "\u001b[0;31mTypeError\u001b[0m                                 Traceback (most recent call last)",
      "Cell \u001b[0;32mIn[66], line 3\u001b[0m\n\u001b[1;32m      1\u001b[0m s \u001b[38;5;241m=\u001b[39m \u001b[38;5;124m'\u001b[39m\u001b[38;5;124mpython\u001b[39m\u001b[38;5;124m'\u001b[39m\n\u001b[1;32m      2\u001b[0m \u001b[38;5;28;01mfor\u001b[39;00m i \u001b[38;5;129;01min\u001b[39;00m \u001b[38;5;28mrange\u001b[39m(\u001b[38;5;28mlen\u001b[39m(s)):\n\u001b[0;32m----> 3\u001b[0m     \u001b[43ms\u001b[49m\u001b[43m[\u001b[49m\u001b[43mi\u001b[49m\u001b[43m]\u001b[49m \u001b[38;5;241m=\u001b[39m s[i]\u001b[38;5;241m.\u001b[39mupper()\n\u001b[1;32m      4\u001b[0m \u001b[38;5;28mprint\u001b[39m(s, end\u001b[38;5;241m=\u001b[39m\u001b[38;5;124m'\u001b[39m\u001b[38;5;124m'\u001b[39m)\n",
      "\u001b[0;31mTypeError\u001b[0m: 'str' object does not support item assignment"
     ]
    }
   ],
   "source": [
    "\n",
    "    s = 'python'\n",
    "    for i in range(len(s)):\n",
    "        s[i] = s[i].upper()\n",
    "    print(s, end='')"
   ]
  },
  {
   "cell_type": "code",
   "execution_count": 70,
   "id": "3d5ff552-87a7-4173-95ba-5798ff6ef1dd",
   "metadata": {},
   "outputs": [
    {
     "ename": "NameError",
     "evalue": "name 'g' is not defined",
     "output_type": "error",
     "traceback": [
      "\u001b[0;31m---------------------------------------------------------------------------\u001b[0m",
      "\u001b[0;31mNameError\u001b[0m                                 Traceback (most recent call last)",
      "Cell \u001b[0;32mIn[70], line 10\u001b[0m\n\u001b[1;32m      6\u001b[0m         \u001b[38;5;28mprint\u001b[39m(g)\n\u001b[1;32m      9\u001b[0m u \u001b[38;5;241m=\u001b[39m Test(\u001b[38;5;124m'\u001b[39m\u001b[38;5;124mHello Python\u001b[39m\u001b[38;5;124m'\u001b[39m)\n\u001b[0;32m---> 10\u001b[0m \u001b[43mu\u001b[49m\u001b[38;5;241;43m.\u001b[39;49m\u001b[43mprint\u001b[49m\u001b[43m(\u001b[49m\u001b[43m)\u001b[49m\n",
      "Cell \u001b[0;32mIn[70], line 6\u001b[0m, in \u001b[0;36mTest.print\u001b[0;34m(self)\u001b[0m\n\u001b[1;32m      5\u001b[0m \u001b[38;5;28;01mdef\u001b[39;00m \u001b[38;5;21mprint\u001b[39m(\u001b[38;5;28mself\u001b[39m):\n\u001b[0;32m----> 6\u001b[0m     \u001b[38;5;28mprint\u001b[39m(\u001b[43mg\u001b[49m)\n",
      "\u001b[0;31mNameError\u001b[0m: name 'g' is not defined"
     ]
    }
   ],
   "source": [
    "    class Test:\n",
    "        def __init__(self, s):\n",
    "            self.s = s\n",
    "     \n",
    "        def print(self):\n",
    "            print(g)\n",
    "     \n",
    "     \n",
    "    u = Test('Hello Python')\n",
    "    u.print()\n"
   ]
  },
  {
   "cell_type": "code",
   "execution_count": 3,
   "id": "e0d484b0-dbca-4b91-b90e-833cfb737460",
   "metadata": {},
   "outputs": [
    {
     "name": "stdout",
     "output_type": "stream",
     "text": [
      "Hello\n"
     ]
    }
   ],
   "source": [
    "    x = 0\n",
    "    assert x == 0\n",
    "    print('Hello')  # Hello\n",
    "     \n"
   ]
  },
  {
   "cell_type": "code",
   "execution_count": 4,
   "id": "d04f666e-7a18-49ee-9a58-3589f6f01bbd",
   "metadata": {},
   "outputs": [
    {
     "ename": "AssertionError",
     "evalue": "",
     "output_type": "error",
     "traceback": [
      "\u001b[0;31m---------------------------------------------------------------------------\u001b[0m",
      "\u001b[0;31mAssertionError\u001b[0m                            Traceback (most recent call last)",
      "Cell \u001b[0;32mIn[4], line 2\u001b[0m\n\u001b[1;32m      1\u001b[0m x \u001b[38;5;241m=\u001b[39m \u001b[38;5;241m7\u001b[39m\n\u001b[0;32m----> 2\u001b[0m \u001b[38;5;28;01massert\u001b[39;00m x \u001b[38;5;241m==\u001b[39m \u001b[38;5;241m0\u001b[39m   \u001b[38;5;66;03m# AssertionError\u001b[39;00m\n\u001b[1;32m      3\u001b[0m \u001b[38;5;28mprint\u001b[39m(\u001b[38;5;124m'\u001b[39m\u001b[38;5;124mHello\u001b[39m\u001b[38;5;124m'\u001b[39m)\n",
      "\u001b[0;31mAssertionError\u001b[0m: "
     ]
    }
   ],
   "source": [
    "    x = 7\n",
    "    assert x == 0   # AssertionError\n",
    "    print('Hello')"
   ]
  },
  {
   "cell_type": "code",
   "execution_count": 5,
   "id": "c2edc7d0-6705-4ff6-9eab-ed12b74071f1",
   "metadata": {},
   "outputs": [
    {
     "ename": "AssertionError",
     "evalue": "x must be zero",
     "output_type": "error",
     "traceback": [
      "\u001b[0;31m---------------------------------------------------------------------------\u001b[0m",
      "\u001b[0;31mAssertionError\u001b[0m                            Traceback (most recent call last)",
      "Cell \u001b[0;32mIn[5], line 1\u001b[0m\n\u001b[0;32m----> 1\u001b[0m \u001b[38;5;28;01massert\u001b[39;00m x \u001b[38;5;241m==\u001b[39m \u001b[38;5;241m0\u001b[39m, \u001b[38;5;124m\"\u001b[39m\u001b[38;5;124mx must be zero\u001b[39m\u001b[38;5;124m\"\u001b[39m\n",
      "\u001b[0;31mAssertionError\u001b[0m: x must be zero"
     ]
    }
   ],
   "source": [
    "assert x == 0, \"x must be zero\"\n"
   ]
  },
  {
   "cell_type": "code",
   "execution_count": 6,
   "id": "1a9cc12d-169b-4148-9378-f2b84f71e987",
   "metadata": {},
   "outputs": [
    {
     "name": "stdout",
     "output_type": "stream",
     "text": [
      "[[0, 1, 2, 3], [0, 1, 2, 3]]\n"
     ]
    }
   ],
   "source": [
    "data = [[0, 1, 2, 3] for i in range(2)]\n",
    "print(data)"
   ]
  },
  {
   "cell_type": "code",
   "execution_count": 8,
   "id": "8ed5ce84-31b4-48df-8088-31fc6ba17a7e",
   "metadata": {},
   "outputs": [
    {
     "name": "stdout",
     "output_type": "stream",
     "text": [
      "2\n"
     ]
    }
   ],
   "source": [
    "data = [[0, 1, 2, 3] for i in range(2)]\n",
    "print(data[1][2])  # IndexError: list index out of range"
   ]
  },
  {
   "cell_type": "code",
   "execution_count": 12,
   "id": "83da845d-5715-4568-b73a-15df02ab4f20",
   "metadata": {},
   "outputs": [
    {
     "name": "stdout",
     "output_type": "stream",
     "text": [
      "1\n"
     ]
    }
   ],
   "source": [
    "    class Storage:\n",
    "        def __init__(self):\n",
    "            self.rack = 1\n",
    "     \n",
    "        def get(self):\n",
    "            return self.rack\n",
    "     \n",
    "        def print(self):\n",
    "            #print(self.get())\n",
    "            print(Storage.get(self))\n",
    "            # Insert a method here\n",
    "     \n",
    "     \n",
    "    stuff = Storage()\n",
    "    stuff.print()\n",
    "\n",
    "\n"
   ]
  },
  {
   "cell_type": "code",
   "execution_count": 14,
   "id": "36a1a774-ad65-47dc-a812-380005f3dd16",
   "metadata": {},
   "outputs": [
    {
     "name": "stdout",
     "output_type": "stream",
     "text": [
      "bytearray(b'\\x00\\x00\\x00\\x00')\n"
     ]
    }
   ],
   "source": [
    "b = bytearray(4)\n",
    "print(b)"
   ]
  },
  {
   "cell_type": "code",
   "execution_count": 15,
   "id": "e7d5711a-5e6e-406f-a92e-1c2455fbf7dc",
   "metadata": {},
   "outputs": [
    {
     "data": {
      "text/plain": [
       "\u001b[0;31mInit signature:\u001b[0m \u001b[0mbytearray\u001b[0m\u001b[0;34m(\u001b[0m\u001b[0mself\u001b[0m\u001b[0;34m,\u001b[0m \u001b[0;34m/\u001b[0m\u001b[0;34m,\u001b[0m \u001b[0;34m*\u001b[0m\u001b[0margs\u001b[0m\u001b[0;34m,\u001b[0m \u001b[0;34m**\u001b[0m\u001b[0mkwargs\u001b[0m\u001b[0;34m)\u001b[0m\u001b[0;34m\u001b[0m\u001b[0;34m\u001b[0m\u001b[0m\n",
       "\u001b[0;31mDocstring:\u001b[0m     \n",
       "bytearray(iterable_of_ints) -> bytearray\n",
       "bytearray(string, encoding[, errors]) -> bytearray\n",
       "bytearray(bytes_or_buffer) -> mutable copy of bytes_or_buffer\n",
       "bytearray(int) -> bytes array of size given by the parameter initialized with null bytes\n",
       "bytearray() -> empty bytes array\n",
       "\n",
       "Construct a mutable bytearray object from:\n",
       "  - an iterable yielding integers in range(256)\n",
       "  - a text string encoded using the specified encoding\n",
       "  - a bytes or a buffer object\n",
       "  - any object implementing the buffer API.\n",
       "  - an integer\n",
       "\u001b[0;31mType:\u001b[0m           type\n",
       "\u001b[0;31mSubclasses:\u001b[0m     "
      ]
     },
     "metadata": {},
     "output_type": "display_data"
    }
   ],
   "source": [
    "bytearray?"
   ]
  },
  {
   "cell_type": "code",
   "execution_count": 16,
   "id": "f70d2572-5af8-4d20-8f8c-4f563660353a",
   "metadata": {},
   "outputs": [
    {
     "name": "stdout",
     "output_type": "stream",
     "text": [
      "bytearray(b'\\x03')\n",
      "bytearray(b'ABC')\n"
     ]
    }
   ],
   "source": [
    "print(bytearray([3]))           # bytearray(b'\\x03')\n",
    "print(bytearray([65, 66, 67]))  # bytearray(b'ABC')"
   ]
  },
  {
   "cell_type": "code",
   "execution_count": 19,
   "id": "e949640c-bb7b-4d3f-8797-b0d5f92c460a",
   "metadata": {},
   "outputs": [
    {
     "data": {
      "text/plain": [
       "\u001b[0;31mDocstring:\u001b[0m\n",
       "S.count(sub[, start[, end]]) -> int\n",
       "\n",
       "Return the number of non-overlapping occurrences of substring sub in\n",
       "string S[start:end].  Optional arguments start and end are\n",
       "interpreted as in slice notation.\n",
       "\u001b[0;31mType:\u001b[0m      builtin_function_or_method"
      ]
     },
     "metadata": {},
     "output_type": "display_data"
    }
   ],
   "source": [
    "\n",
    "    data = 'abbabadaadbbaccabc'\n",
    "    print(data.count(\"ab\", 1))"
   ]
  },
  {
   "cell_type": "code",
   "execution_count": 21,
   "id": "7246a83d-3987-4f44-95b4-972256dbb2bf",
   "metadata": {},
   "outputs": [
    {
     "name": "stdout",
     "output_type": "stream",
     "text": [
      "abcdefg\n"
     ]
    }
   ],
   "source": [
    "data = 'abcdefg'\n",
    " \n",
    " \n",
    "def func(text):\n",
    "    # del text[2]  # TypeError: ...\n",
    "    return text\n",
    " \n",
    " \n",
    "print(func(data))"
   ]
  },
  {
   "cell_type": "code",
   "execution_count": 22,
   "id": "fb89016c-24a9-4c1e-adf1-2f99d951feae",
   "metadata": {},
   "outputs": [
    {
     "ename": "TypeError",
     "evalue": "'str' object doesn't support item deletion",
     "output_type": "error",
     "traceback": [
      "\u001b[0;31m---------------------------------------------------------------------------\u001b[0m",
      "\u001b[0;31mTypeError\u001b[0m                                 Traceback (most recent call last)",
      "Cell \u001b[0;32mIn[22], line 9\u001b[0m\n\u001b[1;32m      5\u001b[0m     \u001b[38;5;28;01mdel\u001b[39;00m text[\u001b[38;5;241m2\u001b[39m]  \u001b[38;5;66;03m# TypeError: ...\u001b[39;00m\n\u001b[1;32m      6\u001b[0m     \u001b[38;5;28;01mreturn\u001b[39;00m text\n\u001b[0;32m----> 9\u001b[0m \u001b[38;5;28mprint\u001b[39m(\u001b[43mfunc\u001b[49m\u001b[43m(\u001b[49m\u001b[43mdata\u001b[49m\u001b[43m)\u001b[49m)\n",
      "Cell \u001b[0;32mIn[22], line 5\u001b[0m, in \u001b[0;36mfunc\u001b[0;34m(text)\u001b[0m\n\u001b[1;32m      4\u001b[0m \u001b[38;5;28;01mdef\u001b[39;00m \u001b[38;5;21mfunc\u001b[39m(text):\n\u001b[0;32m----> 5\u001b[0m     \u001b[38;5;28;01mdel\u001b[39;00m text[\u001b[38;5;241m2\u001b[39m]  \u001b[38;5;66;03m# TypeError: ...\u001b[39;00m\n\u001b[1;32m      6\u001b[0m     \u001b[38;5;28;01mreturn\u001b[39;00m text\n",
      "\u001b[0;31mTypeError\u001b[0m: 'str' object doesn't support item deletion"
     ]
    }
   ],
   "source": [
    "data = 'abcdefg'\n",
    " \n",
    " \n",
    "def func(text):\n",
    "    del text[2]  # TypeError: ...\n",
    "    return text\n",
    " \n",
    " \n",
    "print(func(data))"
   ]
  },
  {
   "cell_type": "code",
   "execution_count": 24,
   "id": "85c204a2-4e32-46a7-8360-e1d1bba54088",
   "metadata": {},
   "outputs": [
    {
     "name": "stdout",
     "output_type": "stream",
     "text": [
      "H\n"
     ]
    },
    {
     "ename": "TypeError",
     "evalue": "'str' object does not support item assignment",
     "output_type": "error",
     "traceback": [
      "\u001b[0;31m---------------------------------------------------------------------------\u001b[0m",
      "\u001b[0;31mTypeError\u001b[0m                                 Traceback (most recent call last)",
      "Cell \u001b[0;32mIn[24], line 3\u001b[0m\n\u001b[1;32m      1\u001b[0m s \u001b[38;5;241m=\u001b[39m \u001b[38;5;124m'\u001b[39m\u001b[38;5;124mHello\u001b[39m\u001b[38;5;124m'\u001b[39m\n\u001b[1;32m      2\u001b[0m \u001b[38;5;28mprint\u001b[39m(s[\u001b[38;5;241m0\u001b[39m])   \u001b[38;5;66;03m# H\u001b[39;00m\n\u001b[0;32m----> 3\u001b[0m \u001b[43ms\u001b[49m\u001b[43m[\u001b[49m\u001b[38;5;241;43m0\u001b[39;49m\u001b[43m]\u001b[49m \u001b[38;5;241m=\u001b[39m \u001b[38;5;124m'\u001b[39m\u001b[38;5;124mh\u001b[39m\u001b[38;5;124m'\u001b[39m  \u001b[38;5;66;03m# TypeError: ...\u001b[39;00m\n",
      "\u001b[0;31mTypeError\u001b[0m: 'str' object does not support item assignment"
     ]
    }
   ],
   "source": [
    "s = 'Hello'\n",
    "print(s[0])   # H\n",
    "s[0] = 'h'  # TypeError: ..."
   ]
  },
  {
   "cell_type": "code",
   "execution_count": 25,
   "id": "d82c9ed1-f108-44e7-9de4-875fa7b3caad",
   "metadata": {},
   "outputs": [
    {
     "name": "stdout",
     "output_type": "stream",
     "text": [
      "*\n",
      "*\n",
      "*\n"
     ]
    }
   ],
   "source": [
    "x =0\n",
    "while x <6:\n",
    "    x = x+1\n",
    "    if x % 2 == 0:\n",
    "        continue\n",
    "    print(\"*\")"
   ]
  },
  {
   "cell_type": "code",
   "execution_count": null,
   "id": "ce91be23-c5e0-49f6-aa46-15e269f966c9",
   "metadata": {},
   "outputs": [],
   "source": []
  }
 ],
 "metadata": {
  "kernelspec": {
   "display_name": "Python 3 (ipykernel)",
   "language": "python",
   "name": "python3"
  },
  "language_info": {
   "codemirror_mode": {
    "name": "ipython",
    "version": 3
   },
   "file_extension": ".py",
   "mimetype": "text/x-python",
   "name": "python",
   "nbconvert_exporter": "python",
   "pygments_lexer": "ipython3",
   "version": "3.10.13"
  }
 },
 "nbformat": 4,
 "nbformat_minor": 5
}
