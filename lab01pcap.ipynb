{
 "cells": [
  {
   "cell_type": "code",
   "execution_count": 1,
   "id": "a4173988-9198-4d45-984b-8630f3576d9d",
   "metadata": {},
   "outputs": [
    {
     "name": "stdout",
     "output_type": "stream",
     "text": [
      "Hello\n"
     ]
    }
   ],
   "source": [
    "class Testing():\n",
    "    def __init__(self, a=\"Hello\"):\n",
    "        self.a = a\n",
    "        \n",
    "    def print(self):\n",
    "        print(self.a)\n",
    "\n",
    "item1 = Testing()\n",
    "item1.print()\n",
    "\n",
    "    "
   ]
  },
  {
   "cell_type": "code",
   "execution_count": null,
   "id": "30f90aca-2b9e-4186-89e3-3246451d0e3e",
   "metadata": {},
   "outputs": [],
   "source": []
  },
  {
   "cell_type": "code",
   "execution_count": 4,
   "id": "02788f26-af72-4588-a2f3-5cdd75dfa89d",
   "metadata": {},
   "outputs": [
    {
     "name": "stdout",
     "output_type": "stream",
     "text": [
      "Help on built-in function isinstance in module builtins:\n",
      "\n",
      "isinstance(obj, class_or_tuple, /)\n",
      "    Return whether an object is an instance of a class or of a subclass thereof.\n",
      "    \n",
      "    A tuple, as in ``isinstance(x, (A, B, ...))``, may be given as the target to\n",
      "    check against. This is equivalent to ``isinstance(x, A) or isinstance(x, B)\n",
      "    or ...`` etc.\n",
      "\n"
     ]
    }
   ],
   "source": [
    "help(isinstance)"
   ]
  },
  {
   "cell_type": "code",
   "execution_count": 8,
   "id": "40f51019-bf78-4037-97bb-031f0ef6f94d",
   "metadata": {},
   "outputs": [
    {
     "name": "stdout",
     "output_type": "stream",
     "text": [
      "False\n",
      "True\n",
      "True\n"
     ]
    }
   ],
   "source": [
    "class C():\n",
    "    pass\n",
    "\n",
    "class D(C):\n",
    "    pass\n",
    "\n",
    "class E(D):\n",
    "    pass\n",
    "\n",
    "x = E()\n",
    "\n",
    "print(isinstance(E, C))\n",
    "print(issubclass(E,C))\n",
    "print(isinstance(x,C))\n"
   ]
  },
  {
   "cell_type": "code",
   "execution_count": 9,
   "id": "4ad10dcc-9886-4293-92bc-a1d3fbd2984d",
   "metadata": {},
   "outputs": [
    {
     "name": "stdout",
     "output_type": "stream",
     "text": [
      "2$2$2$2\n"
     ]
    }
   ],
   "source": [
    "a = b= c = d =2\n",
    "print(a,b,c,d, sep=\"$\")"
   ]
  },
  {
   "cell_type": "code",
   "execution_count": 10,
   "id": "8156ef2b-e437-4af7-aa47-77245eb845eb",
   "metadata": {},
   "outputs": [
    {
     "name": "stdout",
     "output_type": "stream",
     "text": [
      "10.333333333333334\n"
     ]
    }
   ],
   "source": [
    "x = 1/3 +4//4 +3**2\n",
    "print(x)"
   ]
  },
  {
   "cell_type": "code",
   "execution_count": 11,
   "id": "797bc60e-6995-4a4f-854d-746670bb54f2",
   "metadata": {},
   "outputs": [
    {
     "name": "stdout",
     "output_type": "stream",
     "text": [
      "new label\n"
     ]
    }
   ],
   "source": [
    "class Test():\n",
    "    def show_label(self):\n",
    "        print(self.get_label())\n",
    "\n",
    "    def get_label(self):\n",
    "        return \"strange label\"\n",
    "\n",
    "\n",
    "class Offspring(Test):\n",
    "    def get_label(self):\n",
    "        return \"new label\"\n",
    "\n",
    "a = Offspring()\n",
    "a.show_label()"
   ]
  },
  {
   "cell_type": "code",
   "execution_count": 12,
   "id": "34a0935f-201c-4bb8-805a-3d1e6c6f0115",
   "metadata": {},
   "outputs": [
    {
     "ename": "UnboundLocalError",
     "evalue": "local variable 'number' referenced before assignment",
     "output_type": "error",
     "traceback": [
      "\u001b[0;31m---------------------------------------------------------------------------\u001b[0m",
      "\u001b[0;31mUnboundLocalError\u001b[0m                         Traceback (most recent call last)",
      "Cell \u001b[0;32mIn[12], line 7\u001b[0m\n\u001b[1;32m      4\u001b[0m     number \u001b[38;5;241m=\u001b[39m number \u001b[38;5;241m+\u001b[39m\u001b[38;5;241m2\u001b[39m\n\u001b[1;32m      5\u001b[0m     \u001b[38;5;28mprint\u001b[39m(number)\n\u001b[0;32m----> 7\u001b[0m \u001b[43mfn1\u001b[49m\u001b[43m(\u001b[49m\u001b[43m)\u001b[49m\n\u001b[1;32m      9\u001b[0m \u001b[38;5;28mprint\u001b[39m(number)\n",
      "Cell \u001b[0;32mIn[12], line 4\u001b[0m, in \u001b[0;36mfn1\u001b[0;34m()\u001b[0m\n\u001b[1;32m      3\u001b[0m \u001b[38;5;28;01mdef\u001b[39;00m \u001b[38;5;21mfn1\u001b[39m():\n\u001b[0;32m----> 4\u001b[0m     number \u001b[38;5;241m=\u001b[39m \u001b[43mnumber\u001b[49m \u001b[38;5;241m+\u001b[39m\u001b[38;5;241m2\u001b[39m\n\u001b[1;32m      5\u001b[0m     \u001b[38;5;28mprint\u001b[39m(number)\n",
      "\u001b[0;31mUnboundLocalError\u001b[0m: local variable 'number' referenced before assignment"
     ]
    }
   ],
   "source": [
    "number = 2\n",
    "\n",
    "def fn1():\n",
    "    number = number +2\n",
    "    print(number)\n",
    "\n",
    "fn1()\n",
    "\n",
    "print(number)"
   ]
  },
  {
   "cell_type": "code",
   "execution_count": 13,
   "id": "59cb45de-93a6-4bf5-a410-f44f4727f47b",
   "metadata": {},
   "outputs": [
    {
     "data": {
      "text/plain": [
       "3"
      ]
     },
     "execution_count": 13,
     "metadata": {},
     "output_type": "execute_result"
    }
   ],
   "source": [
    "len(\"abc\")"
   ]
  },
  {
   "cell_type": "code",
   "execution_count": 14,
   "id": "a4c72cb7-9f30-441f-86a1-6344a6443773",
   "metadata": {},
   "outputs": [
    {
     "name": "stdin",
     "output_type": "stream",
     "text": [
      "give a kayman\n",
      "give b rat\n"
     ]
    },
    {
     "name": "stdout",
     "output_type": "stream",
     "text": [
      "1.0\n"
     ]
    }
   ],
   "source": [
    "try:\n",
    "    a = len(input(\"give a\"))\n",
    "    b = len(input(\"give b\"))*2\n",
    "    print(a/b)\n",
    "\n",
    "except ZeroDivisionError:\n",
    "    print(\"divider was 0\")\n",
    "except ValueError:\n",
    "    print(\"wrong value\")\n",
    "except:\n",
    "    print(\"UNKNOWN ERROR !!!\")\n",
    "    \n"
   ]
  },
  {
   "cell_type": "code",
   "execution_count": 15,
   "id": "91efdd02-b0c6-4aab-abd8-b2f615049b3b",
   "metadata": {},
   "outputs": [
    {
     "name": "stdout",
     "output_type": "stream",
     "text": [
      "6\n"
     ]
    }
   ],
   "source": [
    "b = {}\n",
    "b[2] = 2\n",
    "b[\"2\"] = 3\n",
    "b[2] += 1\n",
    "\n",
    "summary = 0\n",
    "\n",
    "for a in b:\n",
    "    summary += b[a]\n",
    "\n",
    "print(summary)"
   ]
  },
  {
   "cell_type": "code",
   "execution_count": 16,
   "id": "aead4a2c-0549-40bd-b12f-f0a4af1c8a92",
   "metadata": {},
   "outputs": [
    {
     "ename": "SyntaxError",
     "evalue": "default 'except:' must be last (4267893850.py, line 6)",
     "output_type": "error",
     "traceback": [
      "\u001b[0;36m  Cell \u001b[0;32mIn[16], line 6\u001b[0;36m\u001b[0m\n\u001b[0;31m    except:\u001b[0m\n\u001b[0m    ^\u001b[0m\n\u001b[0;31mSyntaxError\u001b[0m\u001b[0;31m:\u001b[0m default 'except:' must be last\n"
     ]
    }
   ],
   "source": [
    "string1 = \"3cd\"\n",
    "\n",
    "try:\n",
    "    a = int(string1)\n",
    "\n",
    "except:\n",
    "    a = 1\n",
    "except ValueError:\n",
    "    a =2\n",
    "except ArithmeticError:\n",
    "    a =3\n",
    "\n",
    "print(a)"
   ]
  },
  {
   "cell_type": "code",
   "execution_count": 17,
   "id": "e4a7ae6f-4631-433f-b802-3e4e1fed123d",
   "metadata": {},
   "outputs": [
    {
     "name": "stdout",
     "output_type": "stream",
     "text": [
      "4\n"
     ]
    }
   ],
   "source": [
    "x =2\n",
    "y= 1\n",
    "x *= y+1\n",
    "print(x)"
   ]
  },
  {
   "cell_type": "code",
   "execution_count": 20,
   "id": "3b448ddd-9261-4d3e-ae29-a7607d801e59",
   "metadata": {},
   "outputs": [
    {
     "name": "stdout",
     "output_type": "stream",
     "text": [
      "30\n"
     ]
    }
   ],
   "source": [
    "class Testing():\n",
    "    def __init__(self, c):\n",
    "        self.c = c\n",
    "        c =50\n",
    "\n",
    "new_instance = Testing(30)\n",
    "print(new_instance.c)"
   ]
  },
  {
   "cell_type": "code",
   "execution_count": 21,
   "id": "7594524f-4861-4db5-a262-d0f33a87aa12",
   "metadata": {},
   "outputs": [
    {
     "name": "stdout",
     "output_type": "stream",
     "text": [
      "Local variable c inside __init__:  50\n",
      "Instance variable c:  30\n"
     ]
    }
   ],
   "source": [
    "class Testing():\n",
    "    def __init__(self, c):\n",
    "        self.c = c\n",
    "        c = 50\n",
    "        print(\"Local variable c inside __init__: \", c)\n",
    "\n",
    "new_instance = Testing(30)\n",
    "print(\"Instance variable c: \", new_instance.c)"
   ]
  },
  {
   "cell_type": "code",
   "execution_count": 22,
   "id": "19e5361e-d7f2-4e83-bfcc-0812a01ca6af",
   "metadata": {},
   "outputs": [
    {
     "name": "stdout",
     "output_type": "stream",
     "text": [
      "x inherited from A is equal 66 \n"
     ]
    }
   ],
   "source": [
    "class A():\n",
    "    def __init__(self):\n",
    "        self.x = 1\n",
    "        self.mathematical(11)\n",
    "        print(f\"x inherited from A is equal {self.x} \")\n",
    "\n",
    "    def mathematical(self, x):\n",
    "        self.x = 5 * x\n",
    "\n",
    "\n",
    "class B(A):\n",
    "    def _init__(self):\n",
    "        super().__init__()\n",
    "\n",
    "    def mathematical(self, x):\n",
    "        self.x = 6 * x\n",
    "\n",
    "obj1 = B()\n",
    "\n"
   ]
  },
  {
   "cell_type": "code",
   "execution_count": 24,
   "id": "7fec03bc-48a7-4e64-ab42-4dd0ba0af7ad",
   "metadata": {},
   "outputs": [
    {
     "name": "stdout",
     "output_type": "stream",
     "text": [
      "the opened filename is text.txt \n",
      "Hello everybody.\n",
      "My name is HAL9000\n",
      "ello everybody.\n",
      "\n",
      "My name is HAL9000\n"
     ]
    }
   ],
   "source": [
    "file = open(\"text.txt\", \"w+\")\n",
    "print(f\"the opened filename is {file.name} \")\n",
    "string1 = \"Hello everybody.\\nMy name is HAL9000\"\n",
    "print(string1)\n",
    "file.write(string1)\n",
    "file.seek(1)\n",
    "for line in file:\n",
    "    print (line)\n"
   ]
  },
  {
   "cell_type": "code",
   "execution_count": 25,
   "id": "a2b55500-a3af-4e08-96de-7f52476691be",
   "metadata": {},
   "outputs": [
    {
     "name": "stdout",
     "output_type": "stream",
     "text": [
      "['M', 'y', ' ', 'n', 'a', 'm', 'e', ' ', 'i', 's', ' ', 'H', 'A', 'L']\n"
     ]
    }
   ],
   "source": [
    "print(list(\"My name is HAL\"))"
   ]
  },
  {
   "cell_type": "code",
   "execution_count": 35,
   "id": "e2a23178-3f4f-4330-8978-f6e051b2883e",
   "metadata": {},
   "outputs": [
    {
     "name": "stdout",
     "output_type": "stream",
     "text": [
      "0b101\n",
      "20\n",
      "0b10100\n"
     ]
    }
   ],
   "source": [
    "a =5\n",
    "b = bin(a)\n",
    "print(b)\n",
    "print(a<<2)\n",
    "print(bin(a<<2))"
   ]
  },
  {
   "cell_type": "code",
   "execution_count": 36,
   "id": "027c5c53-2938-4c76-94ad-fa537c1e9f23",
   "metadata": {},
   "outputs": [
    {
     "name": "stdout",
     "output_type": "stream",
     "text": [
      "123\n",
      "good\n"
     ]
    }
   ],
   "source": [
    "l1 = [123, \"456\", 789]\n",
    "try:\n",
    "    print(l1[-3])\n",
    "except Exception as exception:\n",
    "    print(exception)\n",
    "    print(\"###ARGS: \", exception.args)\n",
    "else:\n",
    "    print(\"good\")"
   ]
  },
  {
   "cell_type": "code",
   "execution_count": 37,
   "id": "07b4fb09-f5cf-45e7-9350-41fb7b9972f3",
   "metadata": {},
   "outputs": [
    {
     "name": "stdout",
     "output_type": "stream",
     "text": [
      "list index out of range\n",
      "###ARGS:  ('list index out of range',)\n"
     ]
    }
   ],
   "source": [
    "l1 = [123, \"456\", 789]\n",
    "try:\n",
    "    print(l1[-4])\n",
    "except Exception as exception:\n",
    "    print(exception)\n",
    "    print(\"###ARGS: \", exception.args)\n",
    "else:\n",
    "    print(\"good\")"
   ]
  },
  {
   "cell_type": "code",
   "execution_count": 38,
   "id": "d2ad2634-2ce8-4967-9bf8-c4ceca4a9737",
   "metadata": {},
   "outputs": [
    {
     "name": "stdout",
     "output_type": "stream",
     "text": [
      "list index out of range\n",
      "###ARGS:  ('list index out of range',)\n",
      "The End.\n"
     ]
    }
   ],
   "source": [
    "l1 = [123, \"456\", 789]\n",
    "try:\n",
    "    print(l1[-4])\n",
    "except Exception as exception:\n",
    "    print(exception)\n",
    "    print(\"###ARGS: \", exception.args)\n",
    "else:\n",
    "    print(\"good\")\n",
    "finally:\n",
    "    print(\"The End.\")"
   ]
  },
  {
   "cell_type": "code",
   "execution_count": 39,
   "id": "8d4aac2e-e8cd-4b34-8073-f24249da694b",
   "metadata": {},
   "outputs": [
    {
     "name": "stdout",
     "output_type": "stream",
     "text": [
      "18\n"
     ]
    }
   ],
   "source": [
    "x =3\n",
    "\n",
    "def fn(x):\n",
    "    return x *2\n",
    "\n",
    "x = fn(x) +x\n",
    "print(fn(x))"
   ]
  },
  {
   "cell_type": "code",
   "execution_count": 42,
   "id": "54a10de3-1712-446d-b446-47deca0361e2",
   "metadata": {},
   "outputs": [
    {
     "name": "stdout",
     "output_type": "stream",
     "text": [
      "1113000000.0\n"
     ]
    }
   ],
   "source": [
    "a =11.13E8\n",
    "print(a)"
   ]
  },
  {
   "cell_type": "code",
   "execution_count": 43,
   "id": "53ede086-f52a-44d8-8213-7eb094c4856b",
   "metadata": {},
   "outputs": [
    {
     "ename": "SyntaxError",
     "evalue": "unterminated string literal (detected at line 1) (4289278535.py, line 1)",
     "output_type": "error",
     "traceback": [
      "\u001b[0;36m  Cell \u001b[0;32mIn[43], line 1\u001b[0;36m\u001b[0m\n\u001b[0;31m    y = \"\\\"\u001b[0m\n\u001b[0m        ^\u001b[0m\n\u001b[0;31mSyntaxError\u001b[0m\u001b[0;31m:\u001b[0m unterminated string literal (detected at line 1)\n"
     ]
    }
   ],
   "source": [
    "y = \"\\\"\n",
    "print(y)"
   ]
  },
  {
   "cell_type": "code",
   "execution_count": 44,
   "id": "3a539450-6733-4896-ab65-a7b7fa8f3128",
   "metadata": {},
   "outputs": [
    {
     "name": "stdout",
     "output_type": "stream",
     "text": [
      "\"\n"
     ]
    }
   ],
   "source": [
    "y = \"\\\"\"\n",
    "print(y)"
   ]
  },
  {
   "cell_type": "code",
   "execution_count": 45,
   "id": "66ac1154-dc92-4efb-8e38-67ddc8de6022",
   "metadata": {},
   "outputs": [
    {
     "name": "stdout",
     "output_type": "stream",
     "text": [
      "abcd\"efgh\"jklm\n"
     ]
    }
   ],
   "source": [
    "y = \"abcd\\\"efgh\\\"jklm\"\n",
    "print(y)"
   ]
  },
  {
   "cell_type": "code",
   "execution_count": 46,
   "id": "14b0c249-67fd-4df7-8fcd-6b2beea8fc53",
   "metadata": {},
   "outputs": [
    {
     "name": "stdout",
     "output_type": "stream",
     "text": [
      "1\n"
     ]
    }
   ],
   "source": [
    "y = \"\\\"\"\n",
    "print(len(y))"
   ]
  },
  {
   "cell_type": "code",
   "execution_count": 47,
   "id": "84c5b27b-a7d3-4fa4-b7cf-04b566eab065",
   "metadata": {},
   "outputs": [
    {
     "name": "stdout",
     "output_type": "stream",
     "text": [
      "0.16666666666666666\n"
     ]
    }
   ],
   "source": [
    "x = 1/6 + 1//8\n",
    "print(x)"
   ]
  },
  {
   "cell_type": "code",
   "execution_count": 49,
   "id": "f626c2ea-692a-431e-a7ad-d77734333b72",
   "metadata": {},
   "outputs": [
    {
     "name": "stdout",
     "output_type": "stream",
     "text": [
      "9 6\n"
     ]
    }
   ],
   "source": [
    "def f1(a=5, b=6):\n",
    "    a = a+2 + b\n",
    "    b += 2\n",
    "    print(a,b)\n",
    "\n",
    "f1(3,4)"
   ]
  },
  {
   "cell_type": "code",
   "execution_count": 53,
   "id": "b9833dcf-a56f-44af-8439-a5ddae325ab0",
   "metadata": {},
   "outputs": [
    {
     "name": "stdout",
     "output_type": "stream",
     "text": [
      "True\n",
      "1\n"
     ]
    }
   ],
   "source": [
    "import math\n",
    "a = math.e != math.pow(3,2)\n",
    "print(a)\n",
    "print(int(a))"
   ]
  },
  {
   "cell_type": "code",
   "execution_count": null,
   "id": "6976db87-e58d-4cb7-9f71-243d42adfd43",
   "metadata": {
    "scrolled": true
   },
   "outputs": [],
   "source": [
    "import platform\n",
    "print(platform.processor())\n",
    "print(platform.version())\n",
    "print(platform.system())\n",
    "print(platform.architecture())\n",
    "print(platform.machine())\n",
    "print(platform.python_build())\n",
    "print(platform.python_compiler())\n",
    "print(platform.python_implementation())\n",
    "print(platform.python_version())\n",
    "print(platform.uname())"
   ]
  },
  {
   "cell_type": "code",
   "execution_count": 74,
   "id": "0a78705b-a277-40fe-9a7d-f5555117a716",
   "metadata": {},
   "outputs": [
    {
     "data": {
      "text/plain": [
       "\u001b[0;31mSignature:\u001b[0m \u001b[0mrandom\u001b[0m\u001b[0;34m.\u001b[0m\u001b[0mshuffle\u001b[0m\u001b[0;34m(\u001b[0m\u001b[0mx\u001b[0m\u001b[0;34m,\u001b[0m \u001b[0mrandom\u001b[0m\u001b[0;34m=\u001b[0m\u001b[0;32mNone\u001b[0m\u001b[0;34m)\u001b[0m\u001b[0;34m\u001b[0m\u001b[0;34m\u001b[0m\u001b[0m\n",
       "\u001b[0;31mDocstring:\u001b[0m\n",
       "Shuffle list x in place, and return None.\n",
       "\n",
       "Optional argument random is a 0-argument function returning a\n",
       "random float in [0.0, 1.0); if it is the default None, the\n",
       "standard random.random will be used.\n",
       "\u001b[0;31mFile:\u001b[0m      ~/.pyenv/versions/3.10.13/lib/python3.10/random.py\n",
       "\u001b[0;31mType:\u001b[0m      method"
      ]
     },
     "metadata": {},
     "output_type": "display_data"
    }
   ],
   "source": [
    "import random\n",
    "l1 = [123, \"abcd\", 4, \"cat\", \"dog\", 9]\n",
    "random.shuffle?"
   ]
  },
  {
   "cell_type": "code",
   "execution_count": 75,
   "id": "f58185e3-78ad-44da-8c27-767d0af07a0c",
   "metadata": {},
   "outputs": [
    {
     "name": "stdout",
     "output_type": "stream",
     "text": [
      "[4, 9, 'cat', 'dog', 123, 'abcd']\n"
     ]
    }
   ],
   "source": [
    "import random\n",
    "l1 = [123, \"abcd\", 4, \"cat\", \"dog\", 9]\n",
    "random.shuffle(l1)\n",
    "print(l1)"
   ]
  },
  {
   "cell_type": "code",
   "execution_count": 76,
   "id": "dda9135b-1d95-47ed-ac1a-9e760f95bb74",
   "metadata": {},
   "outputs": [
    {
     "data": {
      "text/plain": [
       "False"
      ]
     },
     "execution_count": 76,
     "metadata": {},
     "output_type": "execute_result"
    }
   ],
   "source": [
    "None == \"abcd\""
   ]
  },
  {
   "cell_type": "code",
   "execution_count": 80,
   "id": "14df5519-499d-48b0-a954-eb368869fbb2",
   "metadata": {},
   "outputs": [
    {
     "name": "stdout",
     "output_type": "stream",
     "text": [
      "False\n",
      "abcd\n",
      "abcd\n"
     ]
    }
   ],
   "source": [
    "class A:\n",
    "    title = \"abcd\"\n",
    " \n",
    "    def __init__(self, this):\n",
    "        self.name = this + \" this is name \" + A.title\n",
    " \n",
    " \n",
    "t1 = A(\"Papyrus\")\n",
    "t2 = A(\"Art\")\n",
    "print(t1.title == t2.name) \n",
    "print(t1.title)\n",
    "print(t2.title)"
   ]
  },
  {
   "cell_type": "code",
   "execution_count": 83,
   "id": "8483397a-a957-445d-8850-97b235da4180",
   "metadata": {},
   "outputs": [
    {
     "ename": "SyntaxError",
     "evalue": "'break' outside loop (3229903136.py, line 3)",
     "output_type": "error",
     "traceback": [
      "\u001b[0;36m  Cell \u001b[0;32mIn[83], line 3\u001b[0;36m\u001b[0m\n\u001b[0;31m    break\u001b[0m\n\u001b[0m    ^\u001b[0m\n\u001b[0;31mSyntaxError\u001b[0m\u001b[0;31m:\u001b[0m 'break' outside loop\n"
     ]
    }
   ],
   "source": [
    "\n",
    "    try:\n",
    "        print(5/0)\n",
    "        break\n",
    "    except:\n",
    "        print(\"Sorry, something went wrong...\")\n",
    "    except (ValueError, ZeroDivisionError):\n",
    "        print(\"Too bad...\")"
   ]
  },
  {
   "cell_type": "code",
   "execution_count": 86,
   "id": "b73b6dbb-3639-4fe4-abe3-294840174869",
   "metadata": {},
   "outputs": [],
   "source": [
    "class C():\n",
    "    v1 = 2\n",
    "    def __init__(self, x):\n",
    "        self.a = x\n",
    "\n",
    "ob1 = C(5)\n",
    "    "
   ]
  },
  {
   "cell_type": "code",
   "execution_count": 88,
   "id": "2e9e18e7-b607-4c89-a59e-fb94469075dd",
   "metadata": {},
   "outputs": [
    {
     "data": {
      "text/plain": [
       "5"
      ]
     },
     "execution_count": 88,
     "metadata": {},
     "output_type": "execute_result"
    }
   ],
   "source": [
    "ob1.a"
   ]
  },
  {
   "cell_type": "code",
   "execution_count": 89,
   "id": "27be0061-aaac-4710-b7fa-5db0ed25ce93",
   "metadata": {},
   "outputs": [
    {
     "data": {
      "text/plain": [
       "2"
      ]
     },
     "execution_count": 89,
     "metadata": {},
     "output_type": "execute_result"
    }
   ],
   "source": [
    "ob1.v1"
   ]
  },
  {
   "cell_type": "code",
   "execution_count": 90,
   "id": "f768d29d-c667-4bec-802a-dbe26f12bb20",
   "metadata": {},
   "outputs": [
    {
     "name": "stdout",
     "output_type": "stream",
     "text": [
      "{'a': 5}\n"
     ]
    }
   ],
   "source": [
    "print(ob1.__dict__)"
   ]
  },
  {
   "cell_type": "code",
   "execution_count": 91,
   "id": "73fdd5c7-af48-476b-86e9-0b8f14064f9e",
   "metadata": {},
   "outputs": [
    {
     "data": {
      "text/plain": [
       "mappingproxy({'__module__': '__main__',\n",
       "              'v1': 2,\n",
       "              '__init__': <function __main__.C.__init__(self, x)>,\n",
       "              '__dict__': <attribute '__dict__' of 'C' objects>,\n",
       "              '__weakref__': <attribute '__weakref__' of 'C' objects>,\n",
       "              '__doc__': None,\n",
       "              '__annotations__': {}})"
      ]
     },
     "execution_count": 91,
     "metadata": {},
     "output_type": "execute_result"
    }
   ],
   "source": [
    "C.__dict__"
   ]
  },
  {
   "cell_type": "code",
   "execution_count": 93,
   "id": "14da8f7a-2a35-4e1c-8f93-dd93183991c1",
   "metadata": {},
   "outputs": [
    {
     "data": {
      "text/plain": [
       "7"
      ]
     },
     "execution_count": 93,
     "metadata": {},
     "output_type": "execute_result"
    }
   ],
   "source": [
    "len(C.__dict__)"
   ]
  },
  {
   "cell_type": "code",
   "execution_count": 92,
   "id": "dc5c40d2-97a8-4940-a42e-87f9eb1d0974",
   "metadata": {},
   "outputs": [
    {
     "data": {
      "text/plain": [
       "{'a': 5}"
      ]
     },
     "execution_count": 92,
     "metadata": {},
     "output_type": "execute_result"
    }
   ],
   "source": [
    "ob1.__dict__"
   ]
  },
  {
   "cell_type": "code",
   "execution_count": 100,
   "id": "9f356e4d-3130-412a-88d4-98a9fe32dd6c",
   "metadata": {},
   "outputs": [
    {
     "data": {
      "text/plain": [
       "mappingproxy({'__module__': '__main__',\n",
       "              'v1': 2,\n",
       "              '__init__': <function __main__.C.__init__(self, x)>,\n",
       "              '__dict__': <attribute '__dict__' of 'C' objects>,\n",
       "              '__weakref__': <attribute '__weakref__' of 'C' objects>,\n",
       "              '__doc__': None,\n",
       "              '__annotations__': {}})"
      ]
     },
     "execution_count": 100,
     "metadata": {},
     "output_type": "execute_result"
    }
   ],
   "source": [
    "C.__dict__"
   ]
  },
  {
   "cell_type": "code",
   "execution_count": 97,
   "id": "6333cc3f-0505-4526-8e85-e75ff1ece78f",
   "metadata": {},
   "outputs": [
    {
     "name": "stdout",
     "output_type": "stream",
     "text": [
      "*\n",
      "*\n",
      "*\n"
     ]
    }
   ],
   "source": [
    "i = 4\n",
    "while i > 0:\n",
    "    i -= 2\n",
    "    print(\"*\")\n",
    "    if i ==2:\n",
    "        #break\n",
    "        pass\n",
    "\n",
    "else:\n",
    "    print(\"*\")\n"
   ]
  },
  {
   "cell_type": "code",
   "execution_count": 99,
   "id": "43e63e66-eb7f-4ad4-a132-77f75a806904",
   "metadata": {},
   "outputs": [
    {
     "name": "stdout",
     "output_type": "stream",
     "text": [
      "*\n"
     ]
    }
   ],
   "source": [
    "i = 4\n",
    "while i > 0:\n",
    "    i -= 2\n",
    "    print(\"*\")\n",
    "    if i ==2:\n",
    "        break\n",
    "\n",
    "else:\n",
    "    print(\"*\")"
   ]
  },
  {
   "cell_type": "code",
   "execution_count": 102,
   "id": "c303054f-5b75-4a2f-b45e-ca5adf4329c7",
   "metadata": {},
   "outputs": [
    {
     "name": "stdout",
     "output_type": "stream",
     "text": [
      "e\n",
      "f\n",
      "g\n"
     ]
    }
   ],
   "source": [
    "for a in \"efg\":\n",
    "    print(a)"
   ]
  },
  {
   "cell_type": "code",
   "execution_count": 107,
   "id": "46ef94b2-6ee0-4e57-b1cc-60aaeff56f0a",
   "metadata": {},
   "outputs": [
    {
     "data": {
      "text/plain": [
       "True"
      ]
     },
     "execution_count": 107,
     "metadata": {},
     "output_type": "execute_result"
    }
   ],
   "source": [
    "\"abc5\".isalnum()"
   ]
  },
  {
   "cell_type": "code",
   "execution_count": 108,
   "id": "9fbbde0d-fa89-4553-bc76-b6187056f250",
   "metadata": {},
   "outputs": [
    {
     "data": {
      "text/plain": [
       "False"
      ]
     },
     "execution_count": 108,
     "metadata": {},
     "output_type": "execute_result"
    }
   ],
   "source": [
    "\"abc5 efg\".isalnum()"
   ]
  },
  {
   "cell_type": "code",
   "execution_count": 110,
   "id": "765b23b7-6f8d-45eb-83cb-240b671f126c",
   "metadata": {},
   "outputs": [
    {
     "name": "stdout",
     "output_type": "stream",
     "text": [
      "Help on built-in function isalnum:\n",
      "\n",
      "isalnum() method of builtins.str instance\n",
      "    Return True if the string is an alpha-numeric string, False otherwise.\n",
      "    \n",
      "    A string is alpha-numeric if all characters in the string are alpha-numeric and\n",
      "    there is at least one character in the string.\n",
      "\n"
     ]
    }
   ],
   "source": [
    "help(\"abc\".isalnum)"
   ]
  },
  {
   "cell_type": "code",
   "execution_count": 116,
   "id": "14b38f80-6f75-41df-98eb-171a27293912",
   "metadata": {},
   "outputs": [
    {
     "name": "stdout",
     "output_type": "stream",
     "text": [
      "Email Valid\n"
     ]
    }
   ],
   "source": [
    "    import re\n",
    "    pattern = r'^[a-zA-Z0-9\\.\\+_-]+@[a-zA-Z0-9\\._-]+\\.[a-zA-Z]+$'\n",
    "    email = \"john.connor@gmail.com\"     # Valid\n",
    "    #email = \"john.connor(at)gmail.com\"   # Not valid\n",
    "    if re.match(pattern, email):\n",
    "        print('Email Valid')\n",
    "    else:\n",
    "        print('Email Not valid')"
   ]
  },
  {
   "cell_type": "code",
   "execution_count": 117,
   "id": "6b2c1db2-bfe0-4afc-ac81-a887b78f08c4",
   "metadata": {},
   "outputs": [
    {
     "name": "stdout",
     "output_type": "stream",
     "text": [
      "4\n"
     ]
    }
   ],
   "source": [
    "count = 0\n",
    "s = \"abecadlo\"\n",
    "for x in s*2:\n",
    "    if x in [\"a\",\"z\",\"y\"]:\n",
    "        count = count+1\n",
    "\n",
    "print(count)\n",
    "    \n",
    "    "
   ]
  },
  {
   "cell_type": "code",
   "execution_count": null,
   "id": "661efd3b-6850-428f-9f3a-ba416efa20be",
   "metadata": {},
   "outputs": [],
   "source": []
  },
  {
   "cell_type": "code",
   "execution_count": null,
   "id": "80eb193f-9886-4732-ae81-913431447b47",
   "metadata": {},
   "outputs": [],
   "source": []
  },
  {
   "cell_type": "code",
   "execution_count": null,
   "id": "7462ee51-84fe-4ae0-afda-dcf2974e727b",
   "metadata": {},
   "outputs": [],
   "source": []
  },
  {
   "cell_type": "code",
   "execution_count": null,
   "id": "3f840fd5-8cdb-4947-824e-3c98969ef3ca",
   "metadata": {},
   "outputs": [],
   "source": []
  },
  {
   "cell_type": "code",
   "execution_count": null,
   "id": "ea5551e5-a7e1-43a3-8638-1f22b7e57590",
   "metadata": {},
   "outputs": [],
   "source": []
  },
  {
   "cell_type": "code",
   "execution_count": null,
   "id": "7975b29f-2d20-4a7a-92f3-efa5312410a9",
   "metadata": {},
   "outputs": [],
   "source": []
  },
  {
   "cell_type": "code",
   "execution_count": null,
   "id": "72ceb72d-14a5-4114-bc6c-b705135fc0f6",
   "metadata": {},
   "outputs": [],
   "source": []
  },
  {
   "cell_type": "code",
   "execution_count": null,
   "id": "15703d18-54fa-4277-bd2a-ca97384d9781",
   "metadata": {},
   "outputs": [],
   "source": []
  },
  {
   "cell_type": "code",
   "execution_count": null,
   "id": "8f6e2f8a-c705-480a-96de-a40eb2c8fcbf",
   "metadata": {},
   "outputs": [],
   "source": []
  },
  {
   "cell_type": "code",
   "execution_count": null,
   "id": "5093e289-6b0e-4621-ad51-71e55dace7fd",
   "metadata": {},
   "outputs": [],
   "source": []
  },
  {
   "cell_type": "code",
   "execution_count": null,
   "id": "94a72558-535f-4b4b-9f09-f10401cb8b79",
   "metadata": {},
   "outputs": [],
   "source": []
  },
  {
   "cell_type": "code",
   "execution_count": null,
   "id": "6c5c4d64-b2c1-4f55-90a7-3d0fa1b2b30b",
   "metadata": {},
   "outputs": [],
   "source": []
  },
  {
   "cell_type": "code",
   "execution_count": null,
   "id": "0750b1e2-4f9d-4fff-822e-855b838fff0f",
   "metadata": {},
   "outputs": [],
   "source": []
  }
 ],
 "metadata": {
  "kernelspec": {
   "display_name": "Python 3 (ipykernel)",
   "language": "python",
   "name": "python3"
  },
  "language_info": {
   "codemirror_mode": {
    "name": "ipython",
    "version": 3
   },
   "file_extension": ".py",
   "mimetype": "text/x-python",
   "name": "python",
   "nbconvert_exporter": "python",
   "pygments_lexer": "ipython3",
   "version": "3.10.13"
  }
 },
 "nbformat": 4,
 "nbformat_minor": 5
}
